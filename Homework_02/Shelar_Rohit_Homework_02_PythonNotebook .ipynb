{
 "cells": [
  {
   "cell_type": "markdown",
   "metadata": {},
   "source": [
    "## Stat652_Homework02\n",
    "- Author: \"Rohit Shelar\"\n",
    "- date: \"20/02/2021\""
   ]
  },
  {
   "cell_type": "markdown",
   "metadata": {},
   "source": [
    "### 10.6 Exercises: Problem 3\n",
    "\n",
    "Investigators in the HELP (Health Evaluation and Linkage to Primary Care) study were interested in modeling the probability of being homeless (one or more nights spent on the street or in a shelter in the past six months vs. housed) as a function of age.\n",
    "\n",
    "Generate a confusion matrix for the null model and interpret the result.\n",
    "\n",
    "Fit and interpret logistic regression model for the probability of being homeless as a function of age.\n",
    "\n",
    "What is the predicted probability of being homeless for a 20 year old? For a 40 year old?\n",
    "\n",
    "Generate a confusion matrix for the second model and interpret the result."
   ]
  },
  {
   "cell_type": "markdown",
   "metadata": {},
   "source": [
    "### Answer:"
   ]
  },
  {
   "cell_type": "code",
   "execution_count": 1,
   "metadata": {},
   "outputs": [],
   "source": [
    "import pandas as pd\n",
    "import warnings; warnings.simplefilter('ignore')\n",
    "from sklearn import metrics\n",
    "from sklearn.metrics import confusion_matrix\n",
    "import seaborn as sns\n",
    "import matplotlib.pyplot as plt     "
   ]
  },
  {
   "cell_type": "code",
   "execution_count": 2,
   "metadata": {},
   "outputs": [
    {
     "data": {
      "text/plain": [
       "Index(['Unnamed: 0', 'age', 'anysubstatus', 'anysub', 'cesd', 'd1',\n",
       "       'daysanysub', 'dayslink', 'drugrisk', 'e2b', 'female', 'sex', 'g1b',\n",
       "       'homeless', 'i1', 'i2', 'id', 'indtot', 'linkstatus', 'link', 'mcs',\n",
       "       'pcs', 'pss_fr', 'racegrp', 'satreat', 'sexrisk', 'substance', 'treat',\n",
       "       'avg_drinks', 'max_drinks', 'hospitalizations'],\n",
       "      dtype='object')"
      ]
     },
     "execution_count": 2,
     "metadata": {},
     "output_type": "execute_result"
    }
   ],
   "source": [
    "HELPrct =  pd.read_csv(\"HELPrct.csv\")\n",
    "HELPrct.columns"
   ]
  },
  {
   "cell_type": "code",
   "execution_count": 3,
   "metadata": {},
   "outputs": [
    {
     "name": "stdout",
     "output_type": "stream",
     "text": [
      "Percentage division of Homeless Categories\n"
     ]
    },
    {
     "data": {
      "text/plain": [
       "housed      53.863135\n",
       "homeless    46.136865\n",
       "Name: homeless, dtype: float64"
      ]
     },
     "execution_count": 3,
     "metadata": {},
     "output_type": "execute_result"
    }
   ],
   "source": [
    "print('Percentage division of Homeless Categories')\n",
    "HELPrct['homeless'].value_counts(normalize=True) * 100"
   ]
  },
  {
   "cell_type": "markdown",
   "metadata": {},
   "source": [
    "#### Null Model and Accuracy Report "
   ]
  },
  {
   "cell_type": "code",
   "execution_count": 4,
   "metadata": {
    "scrolled": true
   },
   "outputs": [
    {
     "name": "stdout",
     "output_type": "stream",
     "text": [
      "----------------------- Classification Report ------------------------\n",
      "\n",
      "              precision    recall  f1-score   support\n",
      "\n",
      "           0       0.00      0.00      0.00       209\n",
      "           1       0.54      1.00      0.70       244\n",
      "\n",
      "    accuracy                           0.54       453\n",
      "   macro avg       0.27      0.50      0.35       453\n",
      "weighted avg       0.29      0.54      0.38       453\n",
      "\n",
      "-------------------------- Confusion matrix --------------------------\n",
      "\n"
     ]
    },
    {
     "data": {
      "image/png": "[encoded data removed]",
      "text/plain": [
       "<Figure size 432x288 with 2 Axes>"
      ]
     },
     "metadata": {
      "needs_background": "light"
     },
     "output_type": "display_data"
    }
   ],
   "source": [
    "HELPrct_actual = HELPrct['homeless'].to_list()\n",
    "HELPrct_null = ['housed' for i in range(len(HELPrct['homeless']))]\n",
    "_y_pred_null=[1 if x == 'housed' else 0 for x in HELPrct_null]\n",
    "_y_test_null=[1 if x == 'housed' else 0 for x in HELPrct_actual]\n",
    "\n",
    "print('----------------------- Classification Report ------------------------\\n')\n",
    "print(metrics.classification_report(_y_test_null, _y_pred_null))\n",
    "\n",
    "cf_matrix = confusion_matrix(_y_test_null,_y_pred_null)\n",
    "ax= plt.subplot()\n",
    "sns.heatmap(cf_matrix, cmap=\"Blues\", annot=True,annot_kws={\"size\": 15},fmt='',ax = ax)# font size\n",
    "ax.set_xlabel('Predicted label');\n",
    "ax.set_ylabel('True label')\n",
    "ax.set_title('Confusion Matrix')\n",
    "ax.xaxis.set_ticklabels(['homeless', 'housed'])\n",
    "ax.yaxis.set_ticklabels(['homeless', 'housed'])\n",
    "print('-------------------------- Confusion matrix --------------------------\\n')"
   ]
  },
  {
   "cell_type": "markdown",
   "metadata": {},
   "source": [
    "#### What is the predicted probability of being homeless for a 20 year old? For a 40 year old?"
   ]
  },
  {
   "cell_type": "code",
   "execution_count": 5,
   "metadata": {},
   "outputs": [],
   "source": [
    "X = HELPrct['age'].values.reshape(-1, 1)\n",
    "y = HELPrct['homeless'].values"
   ]
  },
  {
   "cell_type": "code",
   "execution_count": 6,
   "metadata": {},
   "outputs": [],
   "source": [
    "import numpy as np\n",
    "from sklearn.linear_model import LogisticRegression\n",
    "clf = LogisticRegression(random_state=0).fit(X, y)\n",
    "y_pred = clf.predict(X)\n",
    "y_pred_proba = clf.predict_proba(X)\n",
    "#clf.score(X, y)"
   ]
  },
  {
   "cell_type": "code",
   "execution_count": 7,
   "metadata": {},
   "outputs": [
    {
     "name": "stdout",
     "output_type": "stream",
     "text": [
      "Predicted probability of being homeless for a 20 year old:  0.3757575407281232\n",
      "Predicted probability of being homeless for a 40 year old:  0.4854853529073092\n"
     ]
    }
   ],
   "source": [
    "HELPrct[\"proba_homeless\"],HELPrct[\"proba_housed\"] = y_pred_proba[:,0], y_pred_proba[:,1]\n",
    "sub_20 = HELPrct[HELPrct['age'] ==20]\n",
    "sub_40 = HELPrct[HELPrct['age'] ==40]\n",
    "print(\"Predicted probability of being homeless for a 20 year old: \", sub_20['proba_homeless'].to_list()[0])\n",
    "print(\"Predicted probability of being homeless for a 40 year old: \", sub_40['proba_homeless'].to_list()[0])"
   ]
  },
  {
   "cell_type": "markdown",
   "metadata": {},
   "source": [
    "#### logistic regression model for the probability of being homeless as a function of age"
   ]
  },
  {
   "cell_type": "code",
   "execution_count": 8,
   "metadata": {},
   "outputs": [
    {
     "name": "stdout",
     "output_type": "stream",
     "text": [
      "Training Accuracy:  0.5752212389380531\n",
      "Testing Accuracy:  0.543859649122807\n"
     ]
    }
   ],
   "source": [
    "from sklearn.model_selection import train_test_split\n",
    "from sklearn import preprocessing\n",
    "scaler = preprocessing.MinMaxScaler()\n",
    "from sklearn.linear_model import LogisticRegression\n",
    "#X = scaler.fit_transform(X)\n",
    "X_train, X_test, y_train, y_test = train_test_split(X, y, test_size=0.25, random_state=42)\n",
    "logistic = LogisticRegression()\n",
    "logistic.fit(X_train, y_train)\n",
    "y_pred = logistic.predict(X_test)\n",
    "print(\"Training Accuracy: \",logistic.score(X_train, y_train))\n",
    "print(\"Testing Accuracy: \", logistic.score(X_test, y_test))"
   ]
  },
  {
   "cell_type": "markdown",
   "metadata": {},
   "source": [
    "#### Generate a confusion matrix for the second model and interpret the result."
   ]
  },
  {
   "cell_type": "code",
   "execution_count": 9,
   "metadata": {},
   "outputs": [
    {
     "name": "stdout",
     "output_type": "stream",
     "text": [
      "----------------------- Classification Report ------------------------\n",
      "\n",
      "              precision    recall  f1-score   support\n",
      "\n",
      "    homeless       0.65      0.22      0.33        58\n",
      "      housed       0.52      0.88      0.65        56\n",
      "\n",
      "    accuracy                           0.54       114\n",
      "   macro avg       0.59      0.55      0.49       114\n",
      "weighted avg       0.59      0.54      0.49       114\n",
      "\n",
      "-------------------------- Confusion matrix --------------------------\n",
      "\n"
     ]
    },
    {
     "data": {
      "image/png": "[encoded data removed]",
      "text/plain": [
       "<Figure size 432x288 with 2 Axes>"
      ]
     },
     "metadata": {
      "needs_background": "light"
     },
     "output_type": "display_data"
    }
   ],
   "source": [
    "%matplotlib inline\n",
    "# from sklearn.metrics import plot_confusion_matrix\n",
    "# plot_confusion_matrix(logistic,X_test, y_test, cmap='Blues')\n",
    "\n",
    "cf_matrix = confusion_matrix(y_test,y_pred)\n",
    "\n",
    "print('----------------------- Classification Report ------------------------\\n')\n",
    "print(metrics.classification_report(y_test, y_pred))\n",
    "\n",
    "ax= plt.subplot()\n",
    "sns.heatmap(cf_matrix, cmap=\"Blues\", annot=True,annot_kws={\"size\": 15},fmt='',ax = ax)# font size\n",
    "ax.set_xlabel('Predicted label');\n",
    "ax.set_ylabel('True label')\n",
    "ax.set_title('Confusion Matrix')\n",
    "ax.xaxis.set_ticklabels(['homeless', 'housed'])\n",
    "ax.yaxis.set_ticklabels(['homeless', 'housed'])\n",
    "print('-------------------------- Confusion matrix --------------------------\\n')"
   ]
  },
  {
   "cell_type": "code",
   "execution_count": null,
   "metadata": {},
   "outputs": [],
   "source": []
  },
  {
   "cell_type": "markdown",
   "metadata": {},
   "source": [
    "### 11.7 Exercises: Problem 6a without SleepHrsNight variable\n",
    "#### Run Models 1. Null Model, 2. KNN 3. Logistic Regression, \n",
    "using training and test datasets, as described in part c of the problem i.e. 25% test split"
   ]
  },
  {
   "cell_type": "markdown",
   "metadata": {},
   "source": [
    "### Answer:"
   ]
  },
  {
   "cell_type": "markdown",
   "metadata": {},
   "source": [
    "The accuracy of Null Model is : 0.75"
   ]
  },
  {
   "cell_type": "markdown",
   "metadata": {},
   "source": [
    "The accuracy of KNN Model is : 0.76"
   ]
  },
  {
   "cell_type": "markdown",
   "metadata": {},
   "source": [
    "The accuracy of Logistic Regression Model is : 0.76"
   ]
  },
  {
   "cell_type": "code",
   "execution_count": 10,
   "metadata": {},
   "outputs": [
    {
     "name": "stdout",
     "output_type": "stream",
     "text": [
      "Index(['Unnamed: 0', 'ID', 'SurveyYr', 'Gender', 'Age', 'AgeDecade',\n",
      "       'AgeMonths', 'Race1', 'Race3', 'Education', 'MaritalStatus', 'HHIncome',\n",
      "       'HHIncomeMid', 'Poverty', 'HomeRooms', 'HomeOwn', 'Work', 'Weight',\n",
      "       'Length', 'HeadCirc', 'Height', 'BMI', 'BMICatUnder20yrs', 'BMI_WHO',\n",
      "       'Pulse', 'BPSysAve', 'BPDiaAve', 'BPSys1', 'BPDia1', 'BPSys2', 'BPDia2',\n",
      "       'BPSys3', 'BPDia3', 'Testosterone', 'DirectChol', 'TotChol',\n",
      "       'UrineVol1', 'UrineFlow1', 'UrineVol2', 'UrineFlow2', 'Diabetes',\n",
      "       'DiabetesAge', 'HealthGen', 'DaysPhysHlthBad', 'DaysMentHlthBad',\n",
      "       'LittleInterest', 'Depressed', 'nPregnancies', 'nBabies', 'Age1stBaby',\n",
      "       'SleepHrsNight', 'SleepTrouble', 'PhysActive', 'PhysActiveDays',\n",
      "       'TVHrsDay', 'CompHrsDay', 'TVHrsDayChild', 'CompHrsDayChild',\n",
      "       'Alcohol12PlusYr', 'AlcoholDay', 'AlcoholYear', 'SmokeNow', 'Smoke100',\n",
      "       'Smoke100n', 'SmokeAge', 'Marijuana', 'AgeFirstMarij', 'RegularMarij',\n",
      "       'AgeRegMarij', 'HardDrugs', 'SexEver', 'SexAge', 'SexNumPartnLife',\n",
      "       'SexNumPartYear', 'SameSex', 'SexOrientation', 'PregnantNow'],\n",
      "      dtype='object')\n"
     ]
    },
    {
     "data": {
      "text/html": [
       "<div>\n",
       "<style scoped>\n",
       "    .dataframe tbody tr th:only-of-type {\n",
       "        vertical-align: middle;\n",
       "    }\n",
       "\n",
       "    .dataframe tbody tr th {\n",
       "        vertical-align: top;\n",
       "    }\n",
       "\n",
       "    .dataframe thead th {\n",
       "        text-align: right;\n",
       "    }\n",
       "</style>\n",
       "<table border=\"1\" class=\"dataframe\">\n",
       "  <thead>\n",
       "    <tr style=\"text-align: right;\">\n",
       "      <th></th>\n",
       "      <th>Unnamed: 0</th>\n",
       "      <th>ID</th>\n",
       "      <th>SurveyYr</th>\n",
       "      <th>Gender</th>\n",
       "      <th>Age</th>\n",
       "      <th>AgeDecade</th>\n",
       "      <th>AgeMonths</th>\n",
       "      <th>Race1</th>\n",
       "      <th>Race3</th>\n",
       "      <th>Education</th>\n",
       "      <th>...</th>\n",
       "      <th>RegularMarij</th>\n",
       "      <th>AgeRegMarij</th>\n",
       "      <th>HardDrugs</th>\n",
       "      <th>SexEver</th>\n",
       "      <th>SexAge</th>\n",
       "      <th>SexNumPartnLife</th>\n",
       "      <th>SexNumPartYear</th>\n",
       "      <th>SameSex</th>\n",
       "      <th>SexOrientation</th>\n",
       "      <th>PregnantNow</th>\n",
       "    </tr>\n",
       "  </thead>\n",
       "  <tbody>\n",
       "    <tr>\n",
       "      <th>0</th>\n",
       "      <td>1</td>\n",
       "      <td>51624</td>\n",
       "      <td>2009_10</td>\n",
       "      <td>male</td>\n",
       "      <td>34</td>\n",
       "      <td>30-39</td>\n",
       "      <td>409.0</td>\n",
       "      <td>White</td>\n",
       "      <td>NaN</td>\n",
       "      <td>High School</td>\n",
       "      <td>...</td>\n",
       "      <td>No</td>\n",
       "      <td>NaN</td>\n",
       "      <td>Yes</td>\n",
       "      <td>Yes</td>\n",
       "      <td>16.0</td>\n",
       "      <td>8.0</td>\n",
       "      <td>1.0</td>\n",
       "      <td>No</td>\n",
       "      <td>Heterosexual</td>\n",
       "      <td>NaN</td>\n",
       "    </tr>\n",
       "    <tr>\n",
       "      <th>1</th>\n",
       "      <td>2</td>\n",
       "      <td>51624</td>\n",
       "      <td>2009_10</td>\n",
       "      <td>male</td>\n",
       "      <td>34</td>\n",
       "      <td>30-39</td>\n",
       "      <td>409.0</td>\n",
       "      <td>White</td>\n",
       "      <td>NaN</td>\n",
       "      <td>High School</td>\n",
       "      <td>...</td>\n",
       "      <td>No</td>\n",
       "      <td>NaN</td>\n",
       "      <td>Yes</td>\n",
       "      <td>Yes</td>\n",
       "      <td>16.0</td>\n",
       "      <td>8.0</td>\n",
       "      <td>1.0</td>\n",
       "      <td>No</td>\n",
       "      <td>Heterosexual</td>\n",
       "      <td>NaN</td>\n",
       "    </tr>\n",
       "    <tr>\n",
       "      <th>2</th>\n",
       "      <td>3</td>\n",
       "      <td>51624</td>\n",
       "      <td>2009_10</td>\n",
       "      <td>male</td>\n",
       "      <td>34</td>\n",
       "      <td>30-39</td>\n",
       "      <td>409.0</td>\n",
       "      <td>White</td>\n",
       "      <td>NaN</td>\n",
       "      <td>High School</td>\n",
       "      <td>...</td>\n",
       "      <td>No</td>\n",
       "      <td>NaN</td>\n",
       "      <td>Yes</td>\n",
       "      <td>Yes</td>\n",
       "      <td>16.0</td>\n",
       "      <td>8.0</td>\n",
       "      <td>1.0</td>\n",
       "      <td>No</td>\n",
       "      <td>Heterosexual</td>\n",
       "      <td>NaN</td>\n",
       "    </tr>\n",
       "  </tbody>\n",
       "</table>\n",
       "<p>3 rows × 77 columns</p>\n",
       "</div>"
      ],
      "text/plain": [
       "   Unnamed: 0     ID SurveyYr Gender  Age AgeDecade  AgeMonths  Race1 Race3  \\\n",
       "0           1  51624  2009_10   male   34     30-39      409.0  White   NaN   \n",
       "1           2  51624  2009_10   male   34     30-39      409.0  White   NaN   \n",
       "2           3  51624  2009_10   male   34     30-39      409.0  White   NaN   \n",
       "\n",
       "     Education  ... RegularMarij AgeRegMarij  HardDrugs  SexEver  SexAge  \\\n",
       "0  High School  ...           No         NaN        Yes      Yes    16.0   \n",
       "1  High School  ...           No         NaN        Yes      Yes    16.0   \n",
       "2  High School  ...           No         NaN        Yes      Yes    16.0   \n",
       "\n",
       "  SexNumPartnLife SexNumPartYear  SameSex  SexOrientation  PregnantNow  \n",
       "0             8.0            1.0       No    Heterosexual          NaN  \n",
       "1             8.0            1.0       No    Heterosexual          NaN  \n",
       "2             8.0            1.0       No    Heterosexual          NaN  \n",
       "\n",
       "[3 rows x 77 columns]"
      ]
     },
     "execution_count": 10,
     "metadata": {},
     "output_type": "execute_result"
    }
   ],
   "source": [
    "import pandas as pd\n",
    "df = pd.read_csv(\"NHANES.csv\")\n",
    "print(df.columns)\n",
    "df.head(3)"
   ]
  },
  {
   "cell_type": "code",
   "execution_count": 11,
   "metadata": {},
   "outputs": [],
   "source": [
    "# selecting desired columns from whole dataset\n",
    "data = df[['Age', 'AgeMonths', 'HHIncomeMid', 'Poverty', 'HomeRooms', 'Weight', 'Length', 'HeadCirc', 'Height', 'BMI', 'Pulse', 'BPSysAve', 'BPDiaAve', 'BPSys1', 'BPDia1', 'BPSys2', 'BPDia2', 'BPSys3', 'BPDia3', 'Testosterone', 'DirectChol', 'TotChol', 'UrineVol1', 'UrineFlow1', 'UrineVol2', 'UrineFlow2', 'DiabetesAge', 'DaysPhysHlthBad', 'nPregnancies', 'nBabies', 'Age1stBaby', 'PhysActiveDays','TVHrsDay', 'CompHrsDay','SleepTrouble']]"
   ]
  },
  {
   "cell_type": "code",
   "execution_count": 12,
   "metadata": {},
   "outputs": [
    {
     "name": "stdout",
     "output_type": "stream",
     "text": [
      "Length of dataset:  10000\n"
     ]
    }
   ],
   "source": [
    "print('Length of dataset: ', len(data))"
   ]
  },
  {
   "cell_type": "code",
   "execution_count": 13,
   "metadata": {},
   "outputs": [
    {
     "name": "stdout",
     "output_type": "stream",
     "text": [
      "SleepTrouble Column Distribution\n"
     ]
    },
    {
     "data": {
      "text/plain": [
       "No     5799\n",
       "Yes    1973\n",
       "Name: SleepTrouble, dtype: int64"
      ]
     },
     "execution_count": 13,
     "metadata": {},
     "output_type": "execute_result"
    }
   ],
   "source": [
    "print('SleepTrouble Column Distribution')\n",
    "data['SleepTrouble'].value_counts()"
   ]
  },
  {
   "cell_type": "code",
   "execution_count": 14,
   "metadata": {},
   "outputs": [
    {
     "name": "stdout",
     "output_type": "stream",
     "text": [
      "Dataset after removing missing entries in label column:  7772\n",
      "Dataset without label (Can be used for prediction):  2228\n"
     ]
    }
   ],
   "source": [
    "import numpy as np\n",
    "data_sleeptrouble = data[~data['SleepTrouble'].isna()]\n",
    "missing_sleeptrouble = data[data['SleepTrouble'].isna()]\n",
    "print('Dataset after removing missing entries in label column: ',len(data_sleeptrouble))\n",
    "print('Dataset without label (Can be used for prediction): ',len(missing_sleeptrouble))"
   ]
  },
  {
   "cell_type": "code",
   "execution_count": 15,
   "metadata": {},
   "outputs": [
    {
     "data": {
      "text/plain": [
       "Age                   0\n",
       "AgeMonths          3999\n",
       "HHIncomeMid         672\n",
       "Poverty             597\n",
       "HomeRooms            64\n",
       "Weight               66\n",
       "Length             7772\n",
       "HeadCirc           7772\n",
       "Height               60\n",
       "BMI                  72\n",
       "Pulse               282\n",
       "BPSysAve            293\n",
       "BPDiaAve            293\n",
       "BPSys1              570\n",
       "BPDia1              570\n",
       "BPSys2              454\n",
       "BPDia2              454\n",
       "BPSys3              437\n",
       "BPDia3              437\n",
       "Testosterone       4214\n",
       "DirectChol          427\n",
       "TotChol             427\n",
       "UrineVol1           105\n",
       "UrineFlow1          532\n",
       "UrineVol2          6539\n",
       "UrineFlow2         6541\n",
       "DiabetesAge        7155\n",
       "DaysPhysHlthBad     795\n",
       "nPregnancies       5168\n",
       "nBabies            5356\n",
       "Age1stBaby         5888\n",
       "PhysActiveDays     3896\n",
       "TVHrsDay           3931\n",
       "CompHrsDay         3929\n",
       "SleepTrouble          0\n",
       "dtype: int64"
      ]
     },
     "execution_count": 15,
     "metadata": {},
     "output_type": "execute_result"
    }
   ],
   "source": [
    "data_sleeptrouble.isna().sum()"
   ]
  },
  {
   "cell_type": "code",
   "execution_count": 16,
   "metadata": {},
   "outputs": [],
   "source": [
    "# Droping columns with more than 50% missing values\n",
    "data_sleeptrouble = data_sleeptrouble.drop(columns=['AgeMonths','Length','HeadCirc','Testosterone',\n",
    "                                                   'UrineVol2','UrineFlow2','DiabetesAge','nPregnancies',\n",
    "                                                    'nBabies', 'Age1stBaby', 'PhysActiveDays', 'TVHrsDay',\n",
    "                                                    'CompHrsDay'])"
   ]
  },
  {
   "cell_type": "code",
   "execution_count": 17,
   "metadata": {},
   "outputs": [
    {
     "data": {
      "text/plain": [
       "Age                  0\n",
       "HHIncomeMid        672\n",
       "Poverty            597\n",
       "HomeRooms           64\n",
       "Weight              66\n",
       "Height              60\n",
       "BMI                 72\n",
       "Pulse              282\n",
       "BPSysAve           293\n",
       "BPDiaAve           293\n",
       "BPSys1             570\n",
       "BPDia1             570\n",
       "BPSys2             454\n",
       "BPDia2             454\n",
       "BPSys3             437\n",
       "BPDia3             437\n",
       "DirectChol         427\n",
       "TotChol            427\n",
       "UrineVol1          105\n",
       "UrineFlow1         532\n",
       "DaysPhysHlthBad    795\n",
       "SleepTrouble         0\n",
       "dtype: int64"
      ]
     },
     "execution_count": 17,
     "metadata": {},
     "output_type": "execute_result"
    }
   ],
   "source": [
    "data_sleeptrouble.isna().sum()"
   ]
  },
  {
   "cell_type": "code",
   "execution_count": 18,
   "metadata": {},
   "outputs": [
    {
     "data": {
      "text/plain": [
       "Age                0\n",
       "HHIncomeMid        0\n",
       "Poverty            0\n",
       "HomeRooms          0\n",
       "Weight             0\n",
       "Height             0\n",
       "BMI                0\n",
       "Pulse              0\n",
       "BPSysAve           0\n",
       "BPDiaAve           0\n",
       "BPSys1             0\n",
       "BPDia1             0\n",
       "BPSys2             0\n",
       "BPDia2             0\n",
       "BPSys3             0\n",
       "BPDia3             0\n",
       "DirectChol         0\n",
       "TotChol            0\n",
       "UrineVol1          0\n",
       "UrineFlow1         0\n",
       "DaysPhysHlthBad    0\n",
       "SleepTrouble       0\n",
       "dtype: int64"
      ]
     },
     "execution_count": 18,
     "metadata": {},
     "output_type": "execute_result"
    }
   ],
   "source": [
    "# Filling the missing values with mean value of respective columns\n",
    "data_sleeptrouble_variables =  data_sleeptrouble.drop(columns='SleepTrouble')\n",
    "data_sleeptrouble_variables = data_sleeptrouble_variables.apply(lambda x: x.fillna(x.mean()),axis=0)\n",
    "data_sleeptrouble_variables['SleepTrouble'] = pd.Series(data_sleeptrouble['SleepTrouble'])\n",
    "data_sleeptrouble = data_sleeptrouble_variables\n",
    "data_sleeptrouble.isna().sum()"
   ]
  },
  {
   "cell_type": "code",
   "execution_count": 19,
   "metadata": {},
   "outputs": [
    {
     "data": {
      "text/html": [
       "<div>\n",
       "<style scoped>\n",
       "    .dataframe tbody tr th:only-of-type {\n",
       "        vertical-align: middle;\n",
       "    }\n",
       "\n",
       "    .dataframe tbody tr th {\n",
       "        vertical-align: top;\n",
       "    }\n",
       "\n",
       "    .dataframe thead th {\n",
       "        text-align: right;\n",
       "    }\n",
       "</style>\n",
       "<table border=\"1\" class=\"dataframe\">\n",
       "  <thead>\n",
       "    <tr style=\"text-align: right;\">\n",
       "      <th></th>\n",
       "      <th>Age</th>\n",
       "      <th>HHIncomeMid</th>\n",
       "      <th>Poverty</th>\n",
       "      <th>HomeRooms</th>\n",
       "      <th>Weight</th>\n",
       "      <th>Height</th>\n",
       "      <th>BMI</th>\n",
       "      <th>Pulse</th>\n",
       "      <th>BPSysAve</th>\n",
       "      <th>BPDiaAve</th>\n",
       "      <th>...</th>\n",
       "      <th>BPSys2</th>\n",
       "      <th>BPDia2</th>\n",
       "      <th>BPSys3</th>\n",
       "      <th>BPDia3</th>\n",
       "      <th>DirectChol</th>\n",
       "      <th>TotChol</th>\n",
       "      <th>UrineVol1</th>\n",
       "      <th>UrineFlow1</th>\n",
       "      <th>DaysPhysHlthBad</th>\n",
       "      <th>SleepTrouble</th>\n",
       "    </tr>\n",
       "  </thead>\n",
       "  <tbody>\n",
       "    <tr>\n",
       "      <th>0</th>\n",
       "      <td>34</td>\n",
       "      <td>30000.0</td>\n",
       "      <td>1.36</td>\n",
       "      <td>6.0</td>\n",
       "      <td>87.4</td>\n",
       "      <td>164.7</td>\n",
       "      <td>32.22</td>\n",
       "      <td>70.0</td>\n",
       "      <td>113.0</td>\n",
       "      <td>85.0</td>\n",
       "      <td>...</td>\n",
       "      <td>114.0</td>\n",
       "      <td>88.0</td>\n",
       "      <td>112.0</td>\n",
       "      <td>82.0</td>\n",
       "      <td>1.29</td>\n",
       "      <td>3.49</td>\n",
       "      <td>352.0</td>\n",
       "      <td>1.018502</td>\n",
       "      <td>0.0</td>\n",
       "      <td>Yes</td>\n",
       "    </tr>\n",
       "    <tr>\n",
       "      <th>1</th>\n",
       "      <td>34</td>\n",
       "      <td>30000.0</td>\n",
       "      <td>1.36</td>\n",
       "      <td>6.0</td>\n",
       "      <td>87.4</td>\n",
       "      <td>164.7</td>\n",
       "      <td>32.22</td>\n",
       "      <td>70.0</td>\n",
       "      <td>113.0</td>\n",
       "      <td>85.0</td>\n",
       "      <td>...</td>\n",
       "      <td>114.0</td>\n",
       "      <td>88.0</td>\n",
       "      <td>112.0</td>\n",
       "      <td>82.0</td>\n",
       "      <td>1.29</td>\n",
       "      <td>3.49</td>\n",
       "      <td>352.0</td>\n",
       "      <td>1.018502</td>\n",
       "      <td>0.0</td>\n",
       "      <td>Yes</td>\n",
       "    </tr>\n",
       "    <tr>\n",
       "      <th>2</th>\n",
       "      <td>34</td>\n",
       "      <td>30000.0</td>\n",
       "      <td>1.36</td>\n",
       "      <td>6.0</td>\n",
       "      <td>87.4</td>\n",
       "      <td>164.7</td>\n",
       "      <td>32.22</td>\n",
       "      <td>70.0</td>\n",
       "      <td>113.0</td>\n",
       "      <td>85.0</td>\n",
       "      <td>...</td>\n",
       "      <td>114.0</td>\n",
       "      <td>88.0</td>\n",
       "      <td>112.0</td>\n",
       "      <td>82.0</td>\n",
       "      <td>1.29</td>\n",
       "      <td>3.49</td>\n",
       "      <td>352.0</td>\n",
       "      <td>1.018502</td>\n",
       "      <td>0.0</td>\n",
       "      <td>Yes</td>\n",
       "    </tr>\n",
       "    <tr>\n",
       "      <th>4</th>\n",
       "      <td>49</td>\n",
       "      <td>40000.0</td>\n",
       "      <td>1.91</td>\n",
       "      <td>5.0</td>\n",
       "      <td>86.7</td>\n",
       "      <td>168.4</td>\n",
       "      <td>30.57</td>\n",
       "      <td>86.0</td>\n",
       "      <td>112.0</td>\n",
       "      <td>75.0</td>\n",
       "      <td>...</td>\n",
       "      <td>108.0</td>\n",
       "      <td>74.0</td>\n",
       "      <td>116.0</td>\n",
       "      <td>76.0</td>\n",
       "      <td>1.16</td>\n",
       "      <td>6.70</td>\n",
       "      <td>77.0</td>\n",
       "      <td>0.094000</td>\n",
       "      <td>0.0</td>\n",
       "      <td>Yes</td>\n",
       "    </tr>\n",
       "    <tr>\n",
       "      <th>7</th>\n",
       "      <td>45</td>\n",
       "      <td>87500.0</td>\n",
       "      <td>5.00</td>\n",
       "      <td>6.0</td>\n",
       "      <td>75.7</td>\n",
       "      <td>166.7</td>\n",
       "      <td>27.24</td>\n",
       "      <td>62.0</td>\n",
       "      <td>118.0</td>\n",
       "      <td>64.0</td>\n",
       "      <td>...</td>\n",
       "      <td>118.0</td>\n",
       "      <td>68.0</td>\n",
       "      <td>118.0</td>\n",
       "      <td>60.0</td>\n",
       "      <td>2.12</td>\n",
       "      <td>5.82</td>\n",
       "      <td>106.0</td>\n",
       "      <td>1.116000</td>\n",
       "      <td>0.0</td>\n",
       "      <td>No</td>\n",
       "    </tr>\n",
       "  </tbody>\n",
       "</table>\n",
       "<p>5 rows × 22 columns</p>\n",
       "</div>"
      ],
      "text/plain": [
       "   Age  HHIncomeMid  Poverty  HomeRooms  Weight  Height    BMI  Pulse  \\\n",
       "0   34      30000.0     1.36        6.0    87.4   164.7  32.22   70.0   \n",
       "1   34      30000.0     1.36        6.0    87.4   164.7  32.22   70.0   \n",
       "2   34      30000.0     1.36        6.0    87.4   164.7  32.22   70.0   \n",
       "4   49      40000.0     1.91        5.0    86.7   168.4  30.57   86.0   \n",
       "7   45      87500.0     5.00        6.0    75.7   166.7  27.24   62.0   \n",
       "\n",
       "   BPSysAve  BPDiaAve  ...  BPSys2  BPDia2  BPSys3  BPDia3  DirectChol  \\\n",
       "0     113.0      85.0  ...   114.0    88.0   112.0    82.0        1.29   \n",
       "1     113.0      85.0  ...   114.0    88.0   112.0    82.0        1.29   \n",
       "2     113.0      85.0  ...   114.0    88.0   112.0    82.0        1.29   \n",
       "4     112.0      75.0  ...   108.0    74.0   116.0    76.0        1.16   \n",
       "7     118.0      64.0  ...   118.0    68.0   118.0    60.0        2.12   \n",
       "\n",
       "   TotChol  UrineVol1  UrineFlow1  DaysPhysHlthBad  SleepTrouble  \n",
       "0     3.49      352.0    1.018502              0.0           Yes  \n",
       "1     3.49      352.0    1.018502              0.0           Yes  \n",
       "2     3.49      352.0    1.018502              0.0           Yes  \n",
       "4     6.70       77.0    0.094000              0.0           Yes  \n",
       "7     5.82      106.0    1.116000              0.0            No  \n",
       "\n",
       "[5 rows x 22 columns]"
      ]
     },
     "execution_count": 19,
     "metadata": {},
     "output_type": "execute_result"
    }
   ],
   "source": [
    "from sklearn import preprocessing\n",
    "# Clean Dataframe with no missing values \n",
    "data_sleeptrouble.head()"
   ]
  },
  {
   "cell_type": "code",
   "execution_count": null,
   "metadata": {},
   "outputs": [],
   "source": []
  },
  {
   "cell_type": "markdown",
   "metadata": {},
   "source": [
    "#### Null Model"
   ]
  },
  {
   "cell_type": "code",
   "execution_count": 20,
   "metadata": {},
   "outputs": [
    {
     "data": {
      "text/plain": [
       "No     5799\n",
       "Yes    1973\n",
       "Name: SleepTrouble, dtype: int64"
      ]
     },
     "execution_count": 20,
     "metadata": {},
     "output_type": "execute_result"
    }
   ],
   "source": [
    "data_sleeptrouble['SleepTrouble'].value_counts()"
   ]
  },
  {
   "cell_type": "code",
   "execution_count": 21,
   "metadata": {},
   "outputs": [],
   "source": [
    "from sklearn import metrics\n",
    "data_sleeptrouble_actual = data_sleeptrouble['SleepTrouble'].to_list()\n",
    "data_sleeptrouble_null = ['No' for i in range(len(data_sleeptrouble['SleepTrouble']))]\n",
    "_y_pred_null=[0 if x == 'No' else 1 for x in data_sleeptrouble_null]\n",
    "_y_test_null=[0 if x == 'No' else 1 for x in data_sleeptrouble_actual]\n",
    "#print(metrics.classification_report(_y_test_null, _y_pred_null, labels=[0, 1]))"
   ]
  },
  {
   "cell_type": "code",
   "execution_count": 22,
   "metadata": {},
   "outputs": [
    {
     "name": "stdout",
     "output_type": "stream",
     "text": [
      "----------------------- Classification Report ------------------------\n",
      "\n",
      "              precision    recall  f1-score   support\n",
      "\n",
      "           0       0.75      1.00      0.85      5799\n",
      "           1       0.00      0.00      0.00      1973\n",
      "\n",
      "    accuracy                           0.75      7772\n",
      "   macro avg       0.37      0.50      0.43      7772\n",
      "weighted avg       0.56      0.75      0.64      7772\n",
      "\n",
      "-------------------------- Confusion matrix --------------------------\n",
      "\n"
     ]
    },
    {
     "data": {
      "image/png": "[encoded data removed]",
      "text/plain": [
       "<Figure size 432x288 with 2 Axes>"
      ]
     },
     "metadata": {
      "needs_background": "light"
     },
     "output_type": "display_data"
    }
   ],
   "source": [
    "print('----------------------- Classification Report ------------------------\\n')\n",
    "print(metrics.classification_report(_y_test_null, _y_pred_null))\n",
    "\n",
    "cf_matrix = confusion_matrix(_y_test_null,_y_pred_null)\n",
    "ax= plt.subplot()\n",
    "sns.heatmap(cf_matrix, cmap=\"Blues\", annot=True,annot_kws={\"size\": 15},fmt='',ax = ax)# font size\n",
    "ax.set_xlabel('Predicted label');\n",
    "ax.set_ylabel('True label')\n",
    "ax.set_title('Confusion Matrix')\n",
    "ax.xaxis.set_ticklabels(['no', 'yes'])\n",
    "ax.yaxis.set_ticklabels(['no', 'yes'])\n",
    "print('-------------------------- Confusion matrix --------------------------\\n')"
   ]
  },
  {
   "cell_type": "code",
   "execution_count": null,
   "metadata": {},
   "outputs": [],
   "source": []
  },
  {
   "cell_type": "code",
   "execution_count": 110,
   "metadata": {},
   "outputs": [],
   "source": [
    "# This code is trial for upsampling of the dataset\n",
    "# from sklearn.utils import resample\n",
    "# # Separate majority and minority classes\n",
    "# df_majority = data_sleeptrouble[data_sleeptrouble.SleepTrouble=='No']\n",
    "# df_minority = data_sleeptrouble[data_sleeptrouble.SleepTrouble=='Yes']\n",
    " \n",
    "# # Upsample minority class\n",
    "# df_minority_upsampled = resample(df_minority, \n",
    "#                                  replace=True,     # sample with replacement\n",
    "#                                  n_samples=5799,    # to match majority class\n",
    "#                                  random_state=123) # reproducible results\n",
    " \n",
    "# # Combine majority class with upsampled minority class\n",
    "# df_upsampled = pd.concat([df_majority, df_minority_upsampled])\n",
    "# # Display new class counts\n",
    "# df_upsampled.SleepTrouble.value_counts()\n",
    "# data_sleeptrouble = df_upsampled"
   ]
  },
  {
   "cell_type": "markdown",
   "metadata": {},
   "source": [
    "#### K Neighbors Classifier"
   ]
  },
  {
   "cell_type": "code",
   "execution_count": 23,
   "metadata": {},
   "outputs": [],
   "source": [
    "# Scaling the dataset using MinMaxScaler\n",
    "from sklearn.model_selection import train_test_split\n",
    "X =  data_sleeptrouble.drop(columns='SleepTrouble')\n",
    "scaler = preprocessing.MinMaxScaler()\n",
    "X = scaler.fit_transform(X)\n",
    "y = data_sleeptrouble['SleepTrouble'].values\n",
    "X_train, X_test, y_train, y_test = train_test_split(X, y, test_size=0.25, random_state=42)"
   ]
  },
  {
   "cell_type": "code",
   "execution_count": 25,
   "metadata": {},
   "outputs": [
    {
     "name": "stdout",
     "output_type": "stream",
     "text": [
      "Best Possible Parameter:  {'n_neighbors': 118}\n",
      "Best Accuracy Score:  0.7474698724225002\n"
     ]
    }
   ],
   "source": [
    "# Using GridSearchCV to find best posible K value \n",
    "from sklearn.model_selection import GridSearchCV\n",
    "from sklearn.neighbors import KNeighborsClassifier\n",
    "knn2 = KNeighborsClassifier()\n",
    "param_grid = {'n_neighbors': np.arange(60, 120)}\n",
    "knn_gscv = GridSearchCV(knn2, param_grid, cv=5)\n",
    "#fit model to data\n",
    "knn_gscv.fit(X_train, y_train)\n",
    "print(\"Best Possible Parameter: \", knn_gscv.best_params_)\n",
    "print(\"Best Accuracy Score: \", knn_gscv.best_score_)"
   ]
  },
  {
   "cell_type": "code",
   "execution_count": 60,
   "metadata": {},
   "outputs": [
    {
     "name": "stdout",
     "output_type": "stream",
     "text": [
      "Accuracy Score:  0.7622233659289758\n"
     ]
    }
   ],
   "source": [
    "# Let's take K=119 as odd values\n",
    "from sklearn.neighbors import KNeighborsClassifier\n",
    "knn = KNeighborsClassifier(n_neighbors = 119)\n",
    "knn.fit(X_train,y_train)\n",
    "y_pred = knn.predict(X_test)\n",
    "print(\"Accuracy Score: \", knn.score(X_test, y_test))"
   ]
  },
  {
   "cell_type": "code",
   "execution_count": 28,
   "metadata": {},
   "outputs": [
    {
     "name": "stdout",
     "output_type": "stream",
     "text": [
      "----------------------- Classification Report ------------------------\n",
      "\n",
      "              precision    recall  f1-score   support\n",
      "\n",
      "           0       0.77      0.99      0.86      1472\n",
      "           1       0.57      0.06      0.10       471\n",
      "\n",
      "    accuracy                           0.76      1943\n",
      "   macro avg       0.67      0.52      0.48      1943\n",
      "weighted avg       0.72      0.76      0.68      1943\n",
      "\n"
     ]
    },
    {
     "data": {
      "text/plain": [
       "<sklearn.metrics._plot.confusion_matrix.ConfusionMatrixDisplay at 0x2360b6f5710>"
      ]
     },
     "execution_count": 28,
     "metadata": {},
     "output_type": "execute_result"
    },
    {
     "data": {
      "image/png": "[encoded data removed]",
      "text/plain": [
       "<Figure size 432x288 with 2 Axes>"
      ]
     },
     "metadata": {
      "needs_background": "light"
     },
     "output_type": "display_data"
    }
   ],
   "source": [
    "_y_pred=[0 if x == 'No' else 1 for x in y_pred]\n",
    "_y_test=[0 if x == 'No' else 1 for x in y_test]\n",
    "from sklearn import metrics\n",
    "print('----------------------- Classification Report ------------------------\\n')\n",
    "print(metrics.classification_report(_y_test, _y_pred, labels=[0, 1]))\n",
    "\n",
    "# Confusion matrix \n",
    "%matplotlib inline\n",
    "import matplotlib.pyplot as plt  \n",
    "from sklearn.metrics import plot_confusion_matrix\n",
    "plot_confusion_matrix(knn, X_test, y_test)  "
   ]
  },
  {
   "cell_type": "code",
   "execution_count": null,
   "metadata": {},
   "outputs": [],
   "source": []
  },
  {
   "cell_type": "markdown",
   "metadata": {},
   "source": [
    "#### Logistic Regression"
   ]
  },
  {
   "cell_type": "code",
   "execution_count": 29,
   "metadata": {},
   "outputs": [],
   "source": [
    "from sklearn.linear_model import LogisticRegression\n",
    "# all parameters not specified are set to their defaults\n",
    "logistic = LogisticRegression()"
   ]
  },
  {
   "cell_type": "code",
   "execution_count": 30,
   "metadata": {},
   "outputs": [
    {
     "name": "stdout",
     "output_type": "stream",
     "text": [
      "Accuracy Score:  0.7575913535769428\n"
     ]
    }
   ],
   "source": [
    "logistic.fit(X_train, y_train)\n",
    "y_pred = logistic.predict(X_test)\n",
    "print(\"Accuracy Score: \", logistic.score(X_test, y_test))"
   ]
  },
  {
   "cell_type": "code",
   "execution_count": 31,
   "metadata": {},
   "outputs": [
    {
     "name": "stdout",
     "output_type": "stream",
     "text": [
      "----------------------- Classification Report ------------------------\n",
      "\n",
      "              precision    recall  f1-score   support\n",
      "\n",
      "           0       0.77      0.98      0.86      1472\n",
      "           1       0.50      0.07      0.12       471\n",
      "\n",
      "    accuracy                           0.76      1943\n",
      "   macro avg       0.63      0.52      0.49      1943\n",
      "weighted avg       0.70      0.76      0.68      1943\n",
      "\n",
      "-------------------------- Confusion matrix --------------------------\n",
      "\n"
     ]
    },
    {
     "data": {
      "text/plain": [
       "<sklearn.metrics._plot.confusion_matrix.ConfusionMatrixDisplay at 0x236081dbb38>"
      ]
     },
     "execution_count": 31,
     "metadata": {},
     "output_type": "execute_result"
    },
    {
     "data": {
      "image/png": "[encoded data removed]",
      "text/plain": [
       "<Figure size 432x288 with 2 Axes>"
      ]
     },
     "metadata": {
      "needs_background": "light"
     },
     "output_type": "display_data"
    }
   ],
   "source": [
    "print('----------------------- Classification Report ------------------------\\n')\n",
    "_y_pred=[0 if x == 'No' else 1 for x in y_pred]\n",
    "_y_test=[0 if x == 'No' else 1 for x in y_test]\n",
    "print(metrics.classification_report(_y_test, _y_pred, labels=[0, 1]))\n",
    "\n",
    "print('-------------------------- Confusion matrix --------------------------\\n')\n",
    "%matplotlib inline\n",
    "import matplotlib.pyplot as plt  \n",
    "from sklearn.metrics import plot_confusion_matrix\n",
    "plot_confusion_matrix(knn, X_test, y_test)  "
   ]
  },
  {
   "cell_type": "code",
   "execution_count": null,
   "metadata": {},
   "outputs": [],
   "source": []
  },
  {
   "cell_type": "markdown",
   "metadata": {},
   "source": [
    "### 6B Problem with SleepHrsNight Variable\n",
    "#### 11.7 Exercises: Problem 6b, Run Models 1. Null Model, 2. KNN, 3. Multiple Linear Regression, 4. Decision Tree \n",
    "Using training and test datasets, as described in part c of the problem i.e. 25% test split"
   ]
  },
  {
   "cell_type": "markdown",
   "metadata": {},
   "source": [
    "### Answer:"
   ]
  },
  {
   "cell_type": "markdown",
   "metadata": {},
   "source": [
    "The accuracy of Null Model is : 0.75"
   ]
  },
  {
   "cell_type": "markdown",
   "metadata": {},
   "source": [
    "The accuracy of KNN Model is : 0.77"
   ]
  },
  {
   "cell_type": "markdown",
   "metadata": {},
   "source": [
    "The accuracy of Multiple Linear Regression Model is : 0.76"
   ]
  },
  {
   "cell_type": "markdown",
   "metadata": {},
   "source": [
    "The accuracy of Decision Tree Model is : 0.83"
   ]
  },
  {
   "cell_type": "markdown",
   "metadata": {},
   "source": [
    "Linear Regression, Logictic Regression, KNN can not handle missing data whereas Decision Tree can handle Missing values"
   ]
  },
  {
   "cell_type": "code",
   "execution_count": 32,
   "metadata": {},
   "outputs": [
    {
     "data": {
      "text/html": [
       "<div>\n",
       "<style scoped>\n",
       "    .dataframe tbody tr th:only-of-type {\n",
       "        vertical-align: middle;\n",
       "    }\n",
       "\n",
       "    .dataframe tbody tr th {\n",
       "        vertical-align: top;\n",
       "    }\n",
       "\n",
       "    .dataframe thead th {\n",
       "        text-align: right;\n",
       "    }\n",
       "</style>\n",
       "<table border=\"1\" class=\"dataframe\">\n",
       "  <thead>\n",
       "    <tr style=\"text-align: right;\">\n",
       "      <th></th>\n",
       "      <th>Unnamed: 0</th>\n",
       "      <th>ID</th>\n",
       "      <th>SurveyYr</th>\n",
       "      <th>Gender</th>\n",
       "      <th>Age</th>\n",
       "      <th>AgeDecade</th>\n",
       "      <th>AgeMonths</th>\n",
       "      <th>Race1</th>\n",
       "      <th>Race3</th>\n",
       "      <th>Education</th>\n",
       "      <th>...</th>\n",
       "      <th>RegularMarij</th>\n",
       "      <th>AgeRegMarij</th>\n",
       "      <th>HardDrugs</th>\n",
       "      <th>SexEver</th>\n",
       "      <th>SexAge</th>\n",
       "      <th>SexNumPartnLife</th>\n",
       "      <th>SexNumPartYear</th>\n",
       "      <th>SameSex</th>\n",
       "      <th>SexOrientation</th>\n",
       "      <th>PregnantNow</th>\n",
       "    </tr>\n",
       "  </thead>\n",
       "  <tbody>\n",
       "    <tr>\n",
       "      <th>0</th>\n",
       "      <td>1</td>\n",
       "      <td>51624</td>\n",
       "      <td>2009_10</td>\n",
       "      <td>male</td>\n",
       "      <td>34</td>\n",
       "      <td>30-39</td>\n",
       "      <td>409.0</td>\n",
       "      <td>White</td>\n",
       "      <td>NaN</td>\n",
       "      <td>High School</td>\n",
       "      <td>...</td>\n",
       "      <td>No</td>\n",
       "      <td>NaN</td>\n",
       "      <td>Yes</td>\n",
       "      <td>Yes</td>\n",
       "      <td>16.0</td>\n",
       "      <td>8.0</td>\n",
       "      <td>1.0</td>\n",
       "      <td>No</td>\n",
       "      <td>Heterosexual</td>\n",
       "      <td>NaN</td>\n",
       "    </tr>\n",
       "    <tr>\n",
       "      <th>1</th>\n",
       "      <td>2</td>\n",
       "      <td>51624</td>\n",
       "      <td>2009_10</td>\n",
       "      <td>male</td>\n",
       "      <td>34</td>\n",
       "      <td>30-39</td>\n",
       "      <td>409.0</td>\n",
       "      <td>White</td>\n",
       "      <td>NaN</td>\n",
       "      <td>High School</td>\n",
       "      <td>...</td>\n",
       "      <td>No</td>\n",
       "      <td>NaN</td>\n",
       "      <td>Yes</td>\n",
       "      <td>Yes</td>\n",
       "      <td>16.0</td>\n",
       "      <td>8.0</td>\n",
       "      <td>1.0</td>\n",
       "      <td>No</td>\n",
       "      <td>Heterosexual</td>\n",
       "      <td>NaN</td>\n",
       "    </tr>\n",
       "    <tr>\n",
       "      <th>2</th>\n",
       "      <td>3</td>\n",
       "      <td>51624</td>\n",
       "      <td>2009_10</td>\n",
       "      <td>male</td>\n",
       "      <td>34</td>\n",
       "      <td>30-39</td>\n",
       "      <td>409.0</td>\n",
       "      <td>White</td>\n",
       "      <td>NaN</td>\n",
       "      <td>High School</td>\n",
       "      <td>...</td>\n",
       "      <td>No</td>\n",
       "      <td>NaN</td>\n",
       "      <td>Yes</td>\n",
       "      <td>Yes</td>\n",
       "      <td>16.0</td>\n",
       "      <td>8.0</td>\n",
       "      <td>1.0</td>\n",
       "      <td>No</td>\n",
       "      <td>Heterosexual</td>\n",
       "      <td>NaN</td>\n",
       "    </tr>\n",
       "    <tr>\n",
       "      <th>3</th>\n",
       "      <td>4</td>\n",
       "      <td>51625</td>\n",
       "      <td>2009_10</td>\n",
       "      <td>male</td>\n",
       "      <td>4</td>\n",
       "      <td>0-9</td>\n",
       "      <td>49.0</td>\n",
       "      <td>Other</td>\n",
       "      <td>NaN</td>\n",
       "      <td>NaN</td>\n",
       "      <td>...</td>\n",
       "      <td>NaN</td>\n",
       "      <td>NaN</td>\n",
       "      <td>NaN</td>\n",
       "      <td>NaN</td>\n",
       "      <td>NaN</td>\n",
       "      <td>NaN</td>\n",
       "      <td>NaN</td>\n",
       "      <td>NaN</td>\n",
       "      <td>NaN</td>\n",
       "      <td>NaN</td>\n",
       "    </tr>\n",
       "    <tr>\n",
       "      <th>4</th>\n",
       "      <td>5</td>\n",
       "      <td>51630</td>\n",
       "      <td>2009_10</td>\n",
       "      <td>female</td>\n",
       "      <td>49</td>\n",
       "      <td>40-49</td>\n",
       "      <td>596.0</td>\n",
       "      <td>White</td>\n",
       "      <td>NaN</td>\n",
       "      <td>Some College</td>\n",
       "      <td>...</td>\n",
       "      <td>No</td>\n",
       "      <td>NaN</td>\n",
       "      <td>Yes</td>\n",
       "      <td>Yes</td>\n",
       "      <td>12.0</td>\n",
       "      <td>10.0</td>\n",
       "      <td>1.0</td>\n",
       "      <td>Yes</td>\n",
       "      <td>Heterosexual</td>\n",
       "      <td>NaN</td>\n",
       "    </tr>\n",
       "  </tbody>\n",
       "</table>\n",
       "<p>5 rows × 77 columns</p>\n",
       "</div>"
      ],
      "text/plain": [
       "   Unnamed: 0     ID SurveyYr  Gender  Age AgeDecade  AgeMonths  Race1 Race3  \\\n",
       "0           1  51624  2009_10    male   34     30-39      409.0  White   NaN   \n",
       "1           2  51624  2009_10    male   34     30-39      409.0  White   NaN   \n",
       "2           3  51624  2009_10    male   34     30-39      409.0  White   NaN   \n",
       "3           4  51625  2009_10    male    4       0-9       49.0  Other   NaN   \n",
       "4           5  51630  2009_10  female   49     40-49      596.0  White   NaN   \n",
       "\n",
       "      Education  ... RegularMarij AgeRegMarij  HardDrugs  SexEver  SexAge  \\\n",
       "0   High School  ...           No         NaN        Yes      Yes    16.0   \n",
       "1   High School  ...           No         NaN        Yes      Yes    16.0   \n",
       "2   High School  ...           No         NaN        Yes      Yes    16.0   \n",
       "3           NaN  ...          NaN         NaN        NaN      NaN     NaN   \n",
       "4  Some College  ...           No         NaN        Yes      Yes    12.0   \n",
       "\n",
       "  SexNumPartnLife SexNumPartYear  SameSex  SexOrientation  PregnantNow  \n",
       "0             8.0            1.0       No    Heterosexual          NaN  \n",
       "1             8.0            1.0       No    Heterosexual          NaN  \n",
       "2             8.0            1.0       No    Heterosexual          NaN  \n",
       "3             NaN            NaN      NaN             NaN          NaN  \n",
       "4            10.0            1.0      Yes    Heterosexual          NaN  \n",
       "\n",
       "[5 rows x 77 columns]"
      ]
     },
     "execution_count": 32,
     "metadata": {},
     "output_type": "execute_result"
    }
   ],
   "source": [
    "# Original Dataset\n",
    "df.head()"
   ]
  },
  {
   "cell_type": "code",
   "execution_count": 33,
   "metadata": {},
   "outputs": [],
   "source": [
    "# Desired columns inclusing column : CompHrsDay\n",
    "data = df[['Age','SleepHrsNight','AgeMonths', 'HHIncomeMid', 'Poverty', 'HomeRooms', 'Weight', 'Length', 'HeadCirc', 'Height', 'BMI', 'Pulse', 'BPSysAve', 'BPDiaAve', 'BPSys1', 'BPDia1', 'BPSys2', 'BPDia2', 'BPSys3', 'BPDia3', 'Testosterone', 'DirectChol', 'TotChol', 'UrineVol1', 'UrineFlow1', 'UrineVol2', 'UrineFlow2', 'DiabetesAge', 'DaysPhysHlthBad', 'nPregnancies', 'nBabies', 'Age1stBaby', 'PhysActiveDays','TVHrsDay', 'CompHrsDay','SleepTrouble']]"
   ]
  },
  {
   "cell_type": "code",
   "execution_count": 34,
   "metadata": {},
   "outputs": [
    {
     "name": "stdout",
     "output_type": "stream",
     "text": [
      "Length dataset after removing missing entries in label data:  7772\n",
      "Length dataset with missing entries in label data (can be used for prediction): 2228\n"
     ]
    }
   ],
   "source": [
    "data.isna().sum()\n",
    "import numpy as np\n",
    "data_sleeptrouble = data[~data['SleepTrouble'].isna()]\n",
    "missing_sleeptrouble = data[data['SleepTrouble'].isna()]\n",
    "print(\"Length dataset after removing missing entries in label data: \",len(data_sleeptrouble))\n",
    "print(\"Length dataset with missing entries in label data (can be used for prediction):\",len(missing_sleeptrouble))"
   ]
  },
  {
   "cell_type": "code",
   "execution_count": 35,
   "metadata": {},
   "outputs": [
    {
     "data": {
      "text/plain": [
       "Age                   0\n",
       "SleepHrsNight        17\n",
       "AgeMonths          3999\n",
       "HHIncomeMid         672\n",
       "Poverty             597\n",
       "HomeRooms            64\n",
       "Weight               66\n",
       "Length             7772\n",
       "HeadCirc           7772\n",
       "Height               60\n",
       "BMI                  72\n",
       "Pulse               282\n",
       "BPSysAve            293\n",
       "BPDiaAve            293\n",
       "BPSys1              570\n",
       "BPDia1              570\n",
       "BPSys2              454\n",
       "BPDia2              454\n",
       "BPSys3              437\n",
       "BPDia3              437\n",
       "Testosterone       4214\n",
       "DirectChol          427\n",
       "TotChol             427\n",
       "UrineVol1           105\n",
       "UrineFlow1          532\n",
       "UrineVol2          6539\n",
       "UrineFlow2         6541\n",
       "DiabetesAge        7155\n",
       "DaysPhysHlthBad     795\n",
       "nPregnancies       5168\n",
       "nBabies            5356\n",
       "Age1stBaby         5888\n",
       "PhysActiveDays     3896\n",
       "TVHrsDay           3931\n",
       "CompHrsDay         3929\n",
       "SleepTrouble          0\n",
       "dtype: int64"
      ]
     },
     "execution_count": 35,
     "metadata": {},
     "output_type": "execute_result"
    }
   ],
   "source": [
    "data_sleeptrouble.isna().sum()"
   ]
  },
  {
   "cell_type": "code",
   "execution_count": 36,
   "metadata": {},
   "outputs": [],
   "source": [
    "# Dropping all the columns with more than 50% missing values \n",
    "data_sleeptrouble = data_sleeptrouble.drop(columns=['AgeMonths','Length','HeadCirc','Testosterone',\n",
    "                                                   'UrineVol2','UrineFlow2','DiabetesAge','nPregnancies',\n",
    "                                                    'nBabies', 'Age1stBaby', 'PhysActiveDays', 'TVHrsDay',\n",
    "                                                    'CompHrsDay'])"
   ]
  },
  {
   "cell_type": "code",
   "execution_count": 37,
   "metadata": {},
   "outputs": [
    {
     "data": {
      "text/plain": [
       "Age                  0\n",
       "SleepHrsNight       17\n",
       "HHIncomeMid        672\n",
       "Poverty            597\n",
       "HomeRooms           64\n",
       "Weight              66\n",
       "Height              60\n",
       "BMI                 72\n",
       "Pulse              282\n",
       "BPSysAve           293\n",
       "BPDiaAve           293\n",
       "BPSys1             570\n",
       "BPDia1             570\n",
       "BPSys2             454\n",
       "BPDia2             454\n",
       "BPSys3             437\n",
       "BPDia3             437\n",
       "DirectChol         427\n",
       "TotChol            427\n",
       "UrineVol1          105\n",
       "UrineFlow1         532\n",
       "DaysPhysHlthBad    795\n",
       "SleepTrouble         0\n",
       "dtype: int64"
      ]
     },
     "execution_count": 37,
     "metadata": {},
     "output_type": "execute_result"
    }
   ],
   "source": [
    "data_sleeptrouble.isna().sum()"
   ]
  },
  {
   "cell_type": "code",
   "execution_count": 38,
   "metadata": {},
   "outputs": [
    {
     "data": {
      "text/plain": [
       "Age                0\n",
       "SleepHrsNight      0\n",
       "HHIncomeMid        0\n",
       "Poverty            0\n",
       "HomeRooms          0\n",
       "Weight             0\n",
       "Height             0\n",
       "BMI                0\n",
       "Pulse              0\n",
       "BPSysAve           0\n",
       "BPDiaAve           0\n",
       "BPSys1             0\n",
       "BPDia1             0\n",
       "BPSys2             0\n",
       "BPDia2             0\n",
       "BPSys3             0\n",
       "BPDia3             0\n",
       "DirectChol         0\n",
       "TotChol            0\n",
       "UrineVol1          0\n",
       "UrineFlow1         0\n",
       "DaysPhysHlthBad    0\n",
       "SleepTrouble       0\n",
       "dtype: int64"
      ]
     },
     "execution_count": 38,
     "metadata": {},
     "output_type": "execute_result"
    }
   ],
   "source": [
    "# Filling the missing values with mean value of respective columns\n",
    "data_sleeptrouble_variables =  data_sleeptrouble.drop(columns='SleepTrouble')\n",
    "data_sleeptrouble_variables = data_sleeptrouble_variables.apply(lambda x: x.fillna(x.mean()),axis=0)\n",
    "data_sleeptrouble_variables['SleepTrouble'] = pd.Series(data_sleeptrouble['SleepTrouble'])\n",
    "data_sleeptrouble = data_sleeptrouble_variables\n",
    "data_sleeptrouble.isna().sum()"
   ]
  },
  {
   "cell_type": "code",
   "execution_count": 39,
   "metadata": {},
   "outputs": [
    {
     "data": {
      "text/html": [
       "<div>\n",
       "<style scoped>\n",
       "    .dataframe tbody tr th:only-of-type {\n",
       "        vertical-align: middle;\n",
       "    }\n",
       "\n",
       "    .dataframe tbody tr th {\n",
       "        vertical-align: top;\n",
       "    }\n",
       "\n",
       "    .dataframe thead th {\n",
       "        text-align: right;\n",
       "    }\n",
       "</style>\n",
       "<table border=\"1\" class=\"dataframe\">\n",
       "  <thead>\n",
       "    <tr style=\"text-align: right;\">\n",
       "      <th></th>\n",
       "      <th>Age</th>\n",
       "      <th>SleepHrsNight</th>\n",
       "      <th>HHIncomeMid</th>\n",
       "      <th>Poverty</th>\n",
       "      <th>HomeRooms</th>\n",
       "      <th>Weight</th>\n",
       "      <th>Height</th>\n",
       "      <th>BMI</th>\n",
       "      <th>Pulse</th>\n",
       "      <th>BPSysAve</th>\n",
       "      <th>...</th>\n",
       "      <th>BPSys2</th>\n",
       "      <th>BPDia2</th>\n",
       "      <th>BPSys3</th>\n",
       "      <th>BPDia3</th>\n",
       "      <th>DirectChol</th>\n",
       "      <th>TotChol</th>\n",
       "      <th>UrineVol1</th>\n",
       "      <th>UrineFlow1</th>\n",
       "      <th>DaysPhysHlthBad</th>\n",
       "      <th>SleepTrouble</th>\n",
       "    </tr>\n",
       "  </thead>\n",
       "  <tbody>\n",
       "    <tr>\n",
       "      <th>0</th>\n",
       "      <td>34</td>\n",
       "      <td>4.0</td>\n",
       "      <td>30000.0</td>\n",
       "      <td>1.36</td>\n",
       "      <td>6.0</td>\n",
       "      <td>87.4</td>\n",
       "      <td>164.7</td>\n",
       "      <td>32.22</td>\n",
       "      <td>70.0</td>\n",
       "      <td>113.0</td>\n",
       "      <td>...</td>\n",
       "      <td>114.0</td>\n",
       "      <td>88.0</td>\n",
       "      <td>112.0</td>\n",
       "      <td>82.0</td>\n",
       "      <td>1.29</td>\n",
       "      <td>3.49</td>\n",
       "      <td>352.0</td>\n",
       "      <td>1.018502</td>\n",
       "      <td>0.0</td>\n",
       "      <td>Yes</td>\n",
       "    </tr>\n",
       "    <tr>\n",
       "      <th>1</th>\n",
       "      <td>34</td>\n",
       "      <td>4.0</td>\n",
       "      <td>30000.0</td>\n",
       "      <td>1.36</td>\n",
       "      <td>6.0</td>\n",
       "      <td>87.4</td>\n",
       "      <td>164.7</td>\n",
       "      <td>32.22</td>\n",
       "      <td>70.0</td>\n",
       "      <td>113.0</td>\n",
       "      <td>...</td>\n",
       "      <td>114.0</td>\n",
       "      <td>88.0</td>\n",
       "      <td>112.0</td>\n",
       "      <td>82.0</td>\n",
       "      <td>1.29</td>\n",
       "      <td>3.49</td>\n",
       "      <td>352.0</td>\n",
       "      <td>1.018502</td>\n",
       "      <td>0.0</td>\n",
       "      <td>Yes</td>\n",
       "    </tr>\n",
       "    <tr>\n",
       "      <th>2</th>\n",
       "      <td>34</td>\n",
       "      <td>4.0</td>\n",
       "      <td>30000.0</td>\n",
       "      <td>1.36</td>\n",
       "      <td>6.0</td>\n",
       "      <td>87.4</td>\n",
       "      <td>164.7</td>\n",
       "      <td>32.22</td>\n",
       "      <td>70.0</td>\n",
       "      <td>113.0</td>\n",
       "      <td>...</td>\n",
       "      <td>114.0</td>\n",
       "      <td>88.0</td>\n",
       "      <td>112.0</td>\n",
       "      <td>82.0</td>\n",
       "      <td>1.29</td>\n",
       "      <td>3.49</td>\n",
       "      <td>352.0</td>\n",
       "      <td>1.018502</td>\n",
       "      <td>0.0</td>\n",
       "      <td>Yes</td>\n",
       "    </tr>\n",
       "    <tr>\n",
       "      <th>4</th>\n",
       "      <td>49</td>\n",
       "      <td>8.0</td>\n",
       "      <td>40000.0</td>\n",
       "      <td>1.91</td>\n",
       "      <td>5.0</td>\n",
       "      <td>86.7</td>\n",
       "      <td>168.4</td>\n",
       "      <td>30.57</td>\n",
       "      <td>86.0</td>\n",
       "      <td>112.0</td>\n",
       "      <td>...</td>\n",
       "      <td>108.0</td>\n",
       "      <td>74.0</td>\n",
       "      <td>116.0</td>\n",
       "      <td>76.0</td>\n",
       "      <td>1.16</td>\n",
       "      <td>6.70</td>\n",
       "      <td>77.0</td>\n",
       "      <td>0.094000</td>\n",
       "      <td>0.0</td>\n",
       "      <td>Yes</td>\n",
       "    </tr>\n",
       "    <tr>\n",
       "      <th>7</th>\n",
       "      <td>45</td>\n",
       "      <td>8.0</td>\n",
       "      <td>87500.0</td>\n",
       "      <td>5.00</td>\n",
       "      <td>6.0</td>\n",
       "      <td>75.7</td>\n",
       "      <td>166.7</td>\n",
       "      <td>27.24</td>\n",
       "      <td>62.0</td>\n",
       "      <td>118.0</td>\n",
       "      <td>...</td>\n",
       "      <td>118.0</td>\n",
       "      <td>68.0</td>\n",
       "      <td>118.0</td>\n",
       "      <td>60.0</td>\n",
       "      <td>2.12</td>\n",
       "      <td>5.82</td>\n",
       "      <td>106.0</td>\n",
       "      <td>1.116000</td>\n",
       "      <td>0.0</td>\n",
       "      <td>No</td>\n",
       "    </tr>\n",
       "  </tbody>\n",
       "</table>\n",
       "<p>5 rows × 23 columns</p>\n",
       "</div>"
      ],
      "text/plain": [
       "   Age  SleepHrsNight  HHIncomeMid  Poverty  HomeRooms  Weight  Height    BMI  \\\n",
       "0   34            4.0      30000.0     1.36        6.0    87.4   164.7  32.22   \n",
       "1   34            4.0      30000.0     1.36        6.0    87.4   164.7  32.22   \n",
       "2   34            4.0      30000.0     1.36        6.0    87.4   164.7  32.22   \n",
       "4   49            8.0      40000.0     1.91        5.0    86.7   168.4  30.57   \n",
       "7   45            8.0      87500.0     5.00        6.0    75.7   166.7  27.24   \n",
       "\n",
       "   Pulse  BPSysAve  ...  BPSys2  BPDia2  BPSys3  BPDia3  DirectChol  TotChol  \\\n",
       "0   70.0     113.0  ...   114.0    88.0   112.0    82.0        1.29     3.49   \n",
       "1   70.0     113.0  ...   114.0    88.0   112.0    82.0        1.29     3.49   \n",
       "2   70.0     113.0  ...   114.0    88.0   112.0    82.0        1.29     3.49   \n",
       "4   86.0     112.0  ...   108.0    74.0   116.0    76.0        1.16     6.70   \n",
       "7   62.0     118.0  ...   118.0    68.0   118.0    60.0        2.12     5.82   \n",
       "\n",
       "   UrineVol1  UrineFlow1  DaysPhysHlthBad  SleepTrouble  \n",
       "0      352.0    1.018502              0.0           Yes  \n",
       "1      352.0    1.018502              0.0           Yes  \n",
       "2      352.0    1.018502              0.0           Yes  \n",
       "4       77.0    0.094000              0.0           Yes  \n",
       "7      106.0    1.116000              0.0            No  \n",
       "\n",
       "[5 rows x 23 columns]"
      ]
     },
     "execution_count": 39,
     "metadata": {},
     "output_type": "execute_result"
    }
   ],
   "source": [
    "from sklearn import preprocessing\n",
    "# Clean Dataframe\n",
    "data_sleeptrouble.head()"
   ]
  },
  {
   "cell_type": "markdown",
   "metadata": {},
   "source": [
    "#### 1) Null Model"
   ]
  },
  {
   "cell_type": "code",
   "execution_count": 40,
   "metadata": {},
   "outputs": [
    {
     "name": "stdout",
     "output_type": "stream",
     "text": [
      "SleepTrouble Distribution\n"
     ]
    },
    {
     "data": {
      "text/plain": [
       "No     5799\n",
       "Yes    1973\n",
       "Name: SleepTrouble, dtype: int64"
      ]
     },
     "execution_count": 40,
     "metadata": {},
     "output_type": "execute_result"
    }
   ],
   "source": [
    "print(\"SleepTrouble Distribution\")\n",
    "data_sleeptrouble['SleepTrouble'].value_counts()"
   ]
  },
  {
   "cell_type": "code",
   "execution_count": 41,
   "metadata": {},
   "outputs": [],
   "source": [
    "data_sleeptrouble_actual = data_sleeptrouble['SleepTrouble'].to_list()\n",
    "data_sleeptrouble_null = ['No' for i in range(len(data_sleeptrouble['SleepTrouble']))]\n",
    "_y_pred_null=[0 if x == 'No' else 1 for x in data_sleeptrouble_null]\n",
    "_y_test_null=[0 if x == 'No' else 1 for x in data_sleeptrouble_actual]"
   ]
  },
  {
   "cell_type": "code",
   "execution_count": 42,
   "metadata": {},
   "outputs": [
    {
     "name": "stdout",
     "output_type": "stream",
     "text": [
      "----------------------- Classification Report ------------------------\n",
      "\n",
      "              precision    recall  f1-score   support\n",
      "\n",
      "           0       0.75      1.00      0.85      5799\n",
      "           1       0.00      0.00      0.00      1973\n",
      "\n",
      "    accuracy                           0.75      7772\n",
      "   macro avg       0.37      0.50      0.43      7772\n",
      "weighted avg       0.56      0.75      0.64      7772\n",
      "\n",
      "-------------------------- Confusion matrix --------------------------\n",
      "\n"
     ]
    },
    {
     "data": {
      "image/png": "[encoded data removed]",
      "text/plain": [
       "<Figure size 432x288 with 2 Axes>"
      ]
     },
     "metadata": {
      "needs_background": "light"
     },
     "output_type": "display_data"
    }
   ],
   "source": [
    "print('----------------------- Classification Report ------------------------\\n')\n",
    "from sklearn import metrics\n",
    "print(metrics.classification_report(_y_test_null, _y_pred_null))\n",
    "\n",
    "cf_matrix = confusion_matrix(_y_test_null,_y_pred_null)\n",
    "ax= plt.subplot()\n",
    "sns.heatmap(cf_matrix, cmap=\"Blues\", annot=True,annot_kws={\"size\": 15},fmt='',ax = ax)# font size\n",
    "ax.set_xlabel('Predicted label');\n",
    "ax.set_ylabel('True label')\n",
    "ax.set_title('Confusion Matrix')\n",
    "ax.xaxis.set_ticklabels(['no', 'yes'])\n",
    "ax.yaxis.set_ticklabels(['no', 'yes'])\n",
    "print('-------------------------- Confusion matrix --------------------------\\n')"
   ]
  },
  {
   "cell_type": "markdown",
   "metadata": {},
   "source": [
    "#### 2) Knn Model"
   ]
  },
  {
   "cell_type": "code",
   "execution_count": 43,
   "metadata": {},
   "outputs": [],
   "source": [
    "# Only on SleepHrsNight"
   ]
  },
  {
   "cell_type": "code",
   "execution_count": 44,
   "metadata": {},
   "outputs": [],
   "source": [
    "X = data_sleeptrouble['SleepHrsNight'].values.reshape(-1, 1)\n",
    "scaler = preprocessing.MinMaxScaler()\n",
    "X = scaler.fit_transform(X)\n",
    "y = data_sleeptrouble['SleepTrouble'].values\n",
    "X_train, X_test, y_train, y_test = train_test_split(X, y, test_size=0.25, random_state=42)"
   ]
  },
  {
   "cell_type": "code",
   "execution_count": 46,
   "metadata": {},
   "outputs": [
    {
     "name": "stdout",
     "output_type": "stream",
     "text": [
      "Best Possible Parameter:  {'n_neighbors': 75}\n",
      "Best Accuracy Score:  0.7481545064377683\n"
     ]
    }
   ],
   "source": [
    "# Using GridSearchCV to find best posible K value \n",
    "from sklearn.model_selection import GridSearchCV\n",
    "knn2 = KNeighborsClassifier()\n",
    "param_grid = {'n_neighbors': np.arange(60, 120)}\n",
    "knn_gscv = GridSearchCV(knn2, param_grid, cv=5)\n",
    "#fit model to data\n",
    "knn_gscv.fit(X_train, y_train)\n",
    "print(\"Best Possible Parameter: \", knn_gscv.best_params_)\n",
    "print(\"Best Accuracy Score: \", knn_gscv.best_score_)"
   ]
  },
  {
   "cell_type": "code",
   "execution_count": 48,
   "metadata": {},
   "outputs": [
    {
     "name": "stdout",
     "output_type": "stream",
     "text": [
      "Accuracy Score:  0.7534740092640247\n"
     ]
    }
   ],
   "source": [
    "from sklearn.neighbors import KNeighborsClassifier\n",
    "knn = KNeighborsClassifier(n_neighbors = 75)\n",
    "knn.fit(X_train,y_train)\n",
    "y_pred = knn.predict(X_test)\n",
    "print('Accuracy Score: ',knn.score(X_test, y_test) )"
   ]
  },
  {
   "cell_type": "code",
   "execution_count": 49,
   "metadata": {},
   "outputs": [
    {
     "name": "stdout",
     "output_type": "stream",
     "text": [
      "----------------------- Classification Report ------------------------\n",
      "\n",
      "              precision    recall  f1-score   support\n",
      "\n",
      "           0       0.77      0.97      0.86      1472\n",
      "           1       0.46      0.09      0.15       471\n",
      "\n",
      "    accuracy                           0.75      1943\n",
      "   macro avg       0.61      0.53      0.50      1943\n",
      "weighted avg       0.69      0.75      0.68      1943\n",
      "\n",
      "-------------------------- Confusion matrix --------------------------\n",
      "\n"
     ]
    },
    {
     "data": {
      "text/plain": [
       "<sklearn.metrics._plot.confusion_matrix.ConfusionMatrixDisplay at 0x2360b37a208>"
      ]
     },
     "execution_count": 49,
     "metadata": {},
     "output_type": "execute_result"
    },
    {
     "data": {
      "image/png": "[encoded data removed]",
      "text/plain": [
       "<Figure size 432x288 with 2 Axes>"
      ]
     },
     "metadata": {
      "needs_background": "light"
     },
     "output_type": "display_data"
    }
   ],
   "source": [
    "print('----------------------- Classification Report ------------------------\\n')\n",
    "_y_pred=[0 if x == 'No' else 1 for x in y_pred]\n",
    "_y_test=[0 if x == 'No' else 1 for x in y_test]\n",
    "from sklearn import metrics\n",
    "print(metrics.classification_report(_y_test, _y_pred, labels=[0, 1]))\n",
    "\n",
    "%matplotlib inline\n",
    "print('-------------------------- Confusion matrix --------------------------\\n')\n",
    "import matplotlib.pyplot as plt  \n",
    "from sklearn.metrics import plot_confusion_matrix\n",
    "plot_confusion_matrix(knn, X_test, y_test)"
   ]
  },
  {
   "cell_type": "markdown",
   "metadata": {},
   "source": [
    "#### KNN Model on complete dataset"
   ]
  },
  {
   "cell_type": "code",
   "execution_count": 50,
   "metadata": {},
   "outputs": [],
   "source": [
    "from sklearn.model_selection import train_test_split\n",
    "X =  data_sleeptrouble.drop(columns='SleepTrouble')\n",
    "scaler = preprocessing.MinMaxScaler()\n",
    "X = scaler.fit_transform(X)\n",
    "y = data_sleeptrouble['SleepTrouble'].values\n",
    "X_train, X_test, y_train, y_test = train_test_split(X, y, test_size=0.25, random_state=42)"
   ]
  },
  {
   "cell_type": "code",
   "execution_count": 51,
   "metadata": {},
   "outputs": [
    {
     "name": "stdout",
     "output_type": "stream",
     "text": [
      "Accuracy Score:  0.7653113741636645\n"
     ]
    }
   ],
   "source": [
    "from sklearn.neighbors import KNeighborsClassifier\n",
    "knn = KNeighborsClassifier(n_neighbors = 75)\n",
    "knn.fit(X_train,y_train)\n",
    "y_pred = knn.predict(X_test)\n",
    "print('Accuracy Score: ',knn.score(X_test, y_test))"
   ]
  },
  {
   "cell_type": "code",
   "execution_count": 52,
   "metadata": {},
   "outputs": [
    {
     "name": "stdout",
     "output_type": "stream",
     "text": [
      "----------------------- Classification Report ------------------------\n",
      "\n",
      "              precision    recall  f1-score   support\n",
      "\n",
      "           0       0.77      0.99      0.86      1472\n",
      "           1       0.63      0.08      0.14       471\n",
      "\n",
      "    accuracy                           0.77      1943\n",
      "   macro avg       0.70      0.53      0.50      1943\n",
      "weighted avg       0.74      0.77      0.69      1943\n",
      "\n",
      "-------------------------- Confusion matrix --------------------------\n",
      "\n"
     ]
    },
    {
     "data": {
      "text/plain": [
       "<sklearn.metrics._plot.confusion_matrix.ConfusionMatrixDisplay at 0x236092f2fd0>"
      ]
     },
     "execution_count": 52,
     "metadata": {},
     "output_type": "execute_result"
    },
    {
     "data": {
      "image/png": "[encoded data removed]",
      "text/plain": [
       "<Figure size 432x288 with 2 Axes>"
      ]
     },
     "metadata": {
      "needs_background": "light"
     },
     "output_type": "display_data"
    }
   ],
   "source": [
    "print('----------------------- Classification Report ------------------------\\n')\n",
    "\n",
    "_y_pred=[0 if x == 'No' else 1 for x in y_pred]\n",
    "_y_test=[0 if x == 'No' else 1 for x in y_test]\n",
    "from sklearn import metrics\n",
    "print(metrics.classification_report(_y_test, _y_pred, labels=[0, 1]))\n",
    "\n",
    "print('-------------------------- Confusion matrix --------------------------\\n')\n",
    "%matplotlib inline\n",
    "import matplotlib.pyplot as plt  \n",
    "from sklearn.metrics import plot_confusion_matrix\n",
    "plot_confusion_matrix(knn, X_test, y_test)  "
   ]
  },
  {
   "cell_type": "markdown",
   "metadata": {},
   "source": [
    "#### 3) Linear Regression Model on Dataset"
   ]
  },
  {
   "cell_type": "code",
   "execution_count": 53,
   "metadata": {},
   "outputs": [],
   "source": [
    "# Scaling and train test split\n",
    "from sklearn.model_selection import train_test_split\n",
    "X =  data_sleeptrouble.drop(columns='SleepTrouble')\n",
    "scaler = preprocessing.MinMaxScaler()\n",
    "X = scaler.fit_transform(X)\n",
    "y = data_sleeptrouble['SleepTrouble'].values\n",
    "y = np.array([0 if x == 'No' else 1 for x in y])"
   ]
  },
  {
   "cell_type": "code",
   "execution_count": 54,
   "metadata": {},
   "outputs": [],
   "source": [
    "X_train, X_test, y_train, y_test = train_test_split(X, y, test_size=0.25, random_state=42)"
   ]
  },
  {
   "cell_type": "code",
   "execution_count": 55,
   "metadata": {},
   "outputs": [],
   "source": [
    "from sklearn.linear_model import LinearRegression  \n",
    "regressor= LinearRegression()  \n",
    "regressor.fit(X_train,y_train)\n",
    "y_pred= regressor.predict(X_test)  \n",
    "# Converting prediction probabilities of regression to absolute values of class\n",
    "y_pred = np.round(abs(y_pred))"
   ]
  },
  {
   "cell_type": "code",
   "execution_count": 56,
   "metadata": {},
   "outputs": [
    {
     "name": "stdout",
     "output_type": "stream",
     "text": [
      "----------------------- Classification Report ------------------------\n",
      "\n",
      "              precision    recall  f1-score   support\n",
      "\n",
      "           0       0.77      0.98      0.86      1472\n",
      "           1       0.59      0.10      0.17       471\n",
      "\n",
      "    accuracy                           0.76      1943\n",
      "   macro avg       0.68      0.54      0.52      1943\n",
      "weighted avg       0.73      0.76      0.70      1943\n",
      "\n",
      "-------------------------- Confusion matrix --------------------------\n",
      "\n"
     ]
    },
    {
     "data": {
      "image/png": "[encoded data removed]",
      "text/plain": [
       "<Figure size 432x288 with 2 Axes>"
      ]
     },
     "metadata": {
      "needs_background": "light"
     },
     "output_type": "display_data"
    }
   ],
   "source": [
    "from sklearn import metrics\n",
    "print('----------------------- Classification Report ------------------------\\n')\n",
    "\n",
    "print(metrics.classification_report(y_test, y_pred))\n",
    "\n",
    "cf_matrix = confusion_matrix(y_test,y_pred)\n",
    "ax= plt.subplot()\n",
    "sns.heatmap(cf_matrix, cmap=\"Blues\", annot=True,annot_kws={\"size\": 15},fmt='',ax = ax)# font size\n",
    "ax.set_xlabel('Predicted label');\n",
    "ax.set_ylabel('True label')\n",
    "ax.set_title('Confusion Matrix')\n",
    "ax.xaxis.set_ticklabels(['no', 'yes'])\n",
    "ax.yaxis.set_ticklabels(['no', 'yes'])\n",
    "print('-------------------------- Confusion matrix --------------------------\\n')"
   ]
  },
  {
   "cell_type": "markdown",
   "metadata": {},
   "source": [
    "#### 4) Decision Tree Classifier on Dataset"
   ]
  },
  {
   "cell_type": "code",
   "execution_count": 57,
   "metadata": {},
   "outputs": [],
   "source": [
    "from sklearn import tree\n",
    "clf = tree.DecisionTreeClassifier(criterion=\"entropy\")\n",
    "clf = clf.fit(X_train, y_train)\n",
    "y_pred = clf.predict(X_test) "
   ]
  },
  {
   "cell_type": "code",
   "execution_count": 58,
   "metadata": {},
   "outputs": [
    {
     "name": "stdout",
     "output_type": "stream",
     "text": [
      "----------------------- Classification Report ------------------------\n",
      "\n",
      "              precision    recall  f1-score   support\n",
      "\n",
      "           0       0.91      0.87      0.89      1472\n",
      "           1       0.64      0.73      0.68       471\n",
      "\n",
      "    accuracy                           0.83      1943\n",
      "   macro avg       0.77      0.80      0.79      1943\n",
      "weighted avg       0.84      0.83      0.84      1943\n",
      "\n",
      "-------------------------- Confusion matrix --------------------------\n",
      "\n"
     ]
    },
    {
     "data": {
      "text/plain": [
       "<sklearn.metrics._plot.confusion_matrix.ConfusionMatrixDisplay at 0x2360b82d160>"
      ]
     },
     "execution_count": 58,
     "metadata": {},
     "output_type": "execute_result"
    },
    {
     "data": {
      "image/png": "[encoded data removed]",
      "text/plain": [
       "<Figure size 432x288 with 2 Axes>"
      ]
     },
     "metadata": {
      "needs_background": "light"
     },
     "output_type": "display_data"
    }
   ],
   "source": [
    "from sklearn import metrics\n",
    "print('----------------------- Classification Report ------------------------\\n')\n",
    "\n",
    "print(metrics.classification_report(y_test, y_pred))\n",
    "\n",
    "print('-------------------------- Confusion matrix --------------------------\\n')\n",
    "%matplotlib inline\n",
    "import matplotlib.pyplot as plt  \n",
    "from sklearn.metrics import plot_confusion_matrix\n",
    "plot_confusion_matrix(clf, X_test, y_test)  "
   ]
  },
  {
   "cell_type": "code",
   "execution_count": null,
   "metadata": {},
   "outputs": [],
   "source": []
  }
 ],
 "metadata": {
  "kernelspec": {
   "display_name": "Python 3",
   "language": "python",
   "name": "python3"
  },
  "language_info": {
   "codemirror_mode": {
    "name": "ipython",
    "version": 3
   },
   "file_extension": ".py",
   "mimetype": "text/x-python",
   "name": "python",
   "nbconvert_exporter": "python",
   "pygments_lexer": "ipython3",
   "version": "3.6.8"
  }
 },
 "nbformat": 4,
 "nbformat_minor": 2
}
