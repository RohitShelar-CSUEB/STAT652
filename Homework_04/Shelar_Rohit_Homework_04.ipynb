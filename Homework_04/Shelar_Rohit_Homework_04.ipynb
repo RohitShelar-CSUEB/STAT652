{
 "cells": [
  {
   "cell_type": "markdown",
   "metadata": {},
   "source": [
    "## Stat652_Homework 04\n",
    "- Author: \"Rohit Shelar\"\n",
    "- date: \"12/03/2021\""
   ]
  },
  {
   "cell_type": "markdown",
   "metadata": {},
   "source": [
    "### Problems:\n",
    "- 11.7 Exercises: Problem 6a, Run Models 6. Naive Bayes, using training and test datasets, as described in part c of the problem.\n",
    "- 11.7 Exercises: Problem 6b, Run Models 4. Random Forest, using training and test datasets, as described in part c of the problem.\n",
    "- Perform the SMS spam filtering analysis from Lantz. Produce a report explaining the data, the analysis, and the findings. - Organize you report using the Five Steps. - Be sure to include: 1. Show the prediction that the algorithm produced. 2. Give the Accuracy of the predictions. 3. Include the confusion matrix."
   ]
  },
  {
   "cell_type": "markdown",
   "metadata": {},
   "source": [
    "### Answer: Code and Comments :\n",
    "- 11.7 Exercises: Problem 6a Naive Bayes\n",
    "- 11.7 Exercises: Problem 6b Random Forest"
   ]
  },
  {
   "cell_type": "code",
   "execution_count": 1,
   "metadata": {},
   "outputs": [],
   "source": [
    "# Import required packages\n",
    "import pandas as pd\n",
    "import warnings; warnings.simplefilter('ignore')\n",
    "from sklearn import metrics\n",
    "from sklearn.metrics import confusion_matrix\n",
    "import seaborn as sns\n",
    "import matplotlib.pyplot as plt \n",
    "import numpy as np"
   ]
  },
  {
   "cell_type": "code",
   "execution_count": 2,
   "metadata": {},
   "outputs": [
    {
     "name": "stdout",
     "output_type": "stream",
     "text": [
      "Index(['Unnamed: 0', 'ID', 'SurveyYr', 'Gender', 'Age', 'AgeDecade',\n",
      "       'AgeMonths', 'Race1', 'Race3', 'Education', 'MaritalStatus', 'HHIncome',\n",
      "       'HHIncomeMid', 'Poverty', 'HomeRooms', 'HomeOwn', 'Work', 'Weight',\n",
      "       'Length', 'HeadCirc', 'Height', 'BMI', 'BMICatUnder20yrs', 'BMI_WHO',\n",
      "       'Pulse', 'BPSysAve', 'BPDiaAve', 'BPSys1', 'BPDia1', 'BPSys2', 'BPDia2',\n",
      "       'BPSys3', 'BPDia3', 'Testosterone', 'DirectChol', 'TotChol',\n",
      "       'UrineVol1', 'UrineFlow1', 'UrineVol2', 'UrineFlow2', 'Diabetes',\n",
      "       'DiabetesAge', 'HealthGen', 'DaysPhysHlthBad', 'DaysMentHlthBad',\n",
      "       'LittleInterest', 'Depressed', 'nPregnancies', 'nBabies', 'Age1stBaby',\n",
      "       'SleepHrsNight', 'SleepTrouble', 'PhysActive', 'PhysActiveDays',\n",
      "       'TVHrsDay', 'CompHrsDay', 'TVHrsDayChild', 'CompHrsDayChild',\n",
      "       'Alcohol12PlusYr', 'AlcoholDay', 'AlcoholYear', 'SmokeNow', 'Smoke100',\n",
      "       'Smoke100n', 'SmokeAge', 'Marijuana', 'AgeFirstMarij', 'RegularMarij',\n",
      "       'AgeRegMarij', 'HardDrugs', 'SexEver', 'SexAge', 'SexNumPartnLife',\n",
      "       'SexNumPartYear', 'SameSex', 'SexOrientation', 'PregnantNow'],\n",
      "      dtype='object')\n"
     ]
    },
    {
     "data": {
      "text/html": [
       "<div>\n",
       "<style scoped>\n",
       "    .dataframe tbody tr th:only-of-type {\n",
       "        vertical-align: middle;\n",
       "    }\n",
       "\n",
       "    .dataframe tbody tr th {\n",
       "        vertical-align: top;\n",
       "    }\n",
       "\n",
       "    .dataframe thead th {\n",
       "        text-align: right;\n",
       "    }\n",
       "</style>\n",
       "<table border=\"1\" class=\"dataframe\">\n",
       "  <thead>\n",
       "    <tr style=\"text-align: right;\">\n",
       "      <th></th>\n",
       "      <th>Unnamed: 0</th>\n",
       "      <th>ID</th>\n",
       "      <th>SurveyYr</th>\n",
       "      <th>Gender</th>\n",
       "      <th>Age</th>\n",
       "      <th>AgeDecade</th>\n",
       "      <th>AgeMonths</th>\n",
       "      <th>Race1</th>\n",
       "      <th>Race3</th>\n",
       "      <th>Education</th>\n",
       "      <th>...</th>\n",
       "      <th>RegularMarij</th>\n",
       "      <th>AgeRegMarij</th>\n",
       "      <th>HardDrugs</th>\n",
       "      <th>SexEver</th>\n",
       "      <th>SexAge</th>\n",
       "      <th>SexNumPartnLife</th>\n",
       "      <th>SexNumPartYear</th>\n",
       "      <th>SameSex</th>\n",
       "      <th>SexOrientation</th>\n",
       "      <th>PregnantNow</th>\n",
       "    </tr>\n",
       "  </thead>\n",
       "  <tbody>\n",
       "    <tr>\n",
       "      <th>0</th>\n",
       "      <td>1</td>\n",
       "      <td>51624</td>\n",
       "      <td>2009_10</td>\n",
       "      <td>male</td>\n",
       "      <td>34</td>\n",
       "      <td>30-39</td>\n",
       "      <td>409.0</td>\n",
       "      <td>White</td>\n",
       "      <td>NaN</td>\n",
       "      <td>High School</td>\n",
       "      <td>...</td>\n",
       "      <td>No</td>\n",
       "      <td>NaN</td>\n",
       "      <td>Yes</td>\n",
       "      <td>Yes</td>\n",
       "      <td>16.0</td>\n",
       "      <td>8.0</td>\n",
       "      <td>1.0</td>\n",
       "      <td>No</td>\n",
       "      <td>Heterosexual</td>\n",
       "      <td>NaN</td>\n",
       "    </tr>\n",
       "    <tr>\n",
       "      <th>1</th>\n",
       "      <td>2</td>\n",
       "      <td>51624</td>\n",
       "      <td>2009_10</td>\n",
       "      <td>male</td>\n",
       "      <td>34</td>\n",
       "      <td>30-39</td>\n",
       "      <td>409.0</td>\n",
       "      <td>White</td>\n",
       "      <td>NaN</td>\n",
       "      <td>High School</td>\n",
       "      <td>...</td>\n",
       "      <td>No</td>\n",
       "      <td>NaN</td>\n",
       "      <td>Yes</td>\n",
       "      <td>Yes</td>\n",
       "      <td>16.0</td>\n",
       "      <td>8.0</td>\n",
       "      <td>1.0</td>\n",
       "      <td>No</td>\n",
       "      <td>Heterosexual</td>\n",
       "      <td>NaN</td>\n",
       "    </tr>\n",
       "    <tr>\n",
       "      <th>2</th>\n",
       "      <td>3</td>\n",
       "      <td>51624</td>\n",
       "      <td>2009_10</td>\n",
       "      <td>male</td>\n",
       "      <td>34</td>\n",
       "      <td>30-39</td>\n",
       "      <td>409.0</td>\n",
       "      <td>White</td>\n",
       "      <td>NaN</td>\n",
       "      <td>High School</td>\n",
       "      <td>...</td>\n",
       "      <td>No</td>\n",
       "      <td>NaN</td>\n",
       "      <td>Yes</td>\n",
       "      <td>Yes</td>\n",
       "      <td>16.0</td>\n",
       "      <td>8.0</td>\n",
       "      <td>1.0</td>\n",
       "      <td>No</td>\n",
       "      <td>Heterosexual</td>\n",
       "      <td>NaN</td>\n",
       "    </tr>\n",
       "  </tbody>\n",
       "</table>\n",
       "<p>3 rows × 77 columns</p>\n",
       "</div>"
      ],
      "text/plain": [
       "   Unnamed: 0     ID SurveyYr Gender  Age AgeDecade  AgeMonths  Race1 Race3  \\\n",
       "0           1  51624  2009_10   male   34     30-39      409.0  White   NaN   \n",
       "1           2  51624  2009_10   male   34     30-39      409.0  White   NaN   \n",
       "2           3  51624  2009_10   male   34     30-39      409.0  White   NaN   \n",
       "\n",
       "     Education  ... RegularMarij AgeRegMarij  HardDrugs  SexEver  SexAge  \\\n",
       "0  High School  ...           No         NaN        Yes      Yes    16.0   \n",
       "1  High School  ...           No         NaN        Yes      Yes    16.0   \n",
       "2  High School  ...           No         NaN        Yes      Yes    16.0   \n",
       "\n",
       "  SexNumPartnLife SexNumPartYear  SameSex  SexOrientation  PregnantNow  \n",
       "0             8.0            1.0       No    Heterosexual          NaN  \n",
       "1             8.0            1.0       No    Heterosexual          NaN  \n",
       "2             8.0            1.0       No    Heterosexual          NaN  \n",
       "\n",
       "[3 rows x 77 columns]"
      ]
     },
     "execution_count": 2,
     "metadata": {},
     "output_type": "execute_result"
    }
   ],
   "source": [
    "# Step-01 : Loading The NHANES Dataset\n",
    "import pandas as pd\n",
    "df = pd.read_csv(\"NHANES.csv\")\n",
    "print(df.columns)\n",
    "df.head(3)"
   ]
  },
  {
   "cell_type": "code",
   "execution_count": 3,
   "metadata": {},
   "outputs": [],
   "source": [
    "# Step-02 - Data Preprocessing"
   ]
  },
  {
   "cell_type": "code",
   "execution_count": 4,
   "metadata": {},
   "outputs": [],
   "source": [
    "# selecting desired columns from whole dataset\n",
    "data = df[['Age', 'AgeMonths', 'HHIncomeMid', 'Poverty', 'HomeRooms', 'Weight', 'Length', 'HeadCirc', 'Height', 'BMI', 'Pulse', 'BPSysAve', 'BPDiaAve', 'BPSys1', 'BPDia1', 'BPSys2', 'BPDia2', 'BPSys3', 'BPDia3', 'Testosterone', 'DirectChol', 'TotChol', 'UrineVol1', 'UrineFlow1', 'UrineVol2', 'UrineFlow2', 'DiabetesAge', 'DaysPhysHlthBad', 'nPregnancies', 'nBabies', 'Age1stBaby', 'PhysActiveDays','TVHrsDay', 'CompHrsDay','SleepTrouble']]"
   ]
  },
  {
   "cell_type": "code",
   "execution_count": 5,
   "metadata": {},
   "outputs": [
    {
     "name": "stdout",
     "output_type": "stream",
     "text": [
      "Length of dataset:  10000\n"
     ]
    }
   ],
   "source": [
    "print('Length of dataset: ', len(data))"
   ]
  },
  {
   "cell_type": "code",
   "execution_count": 6,
   "metadata": {},
   "outputs": [
    {
     "name": "stdout",
     "output_type": "stream",
     "text": [
      "SleepTrouble Column Distribution\n"
     ]
    },
    {
     "data": {
      "text/plain": [
       "No     5799\n",
       "Yes    1973\n",
       "Name: SleepTrouble, dtype: int64"
      ]
     },
     "execution_count": 6,
     "metadata": {},
     "output_type": "execute_result"
    }
   ],
   "source": [
    "print('SleepTrouble Column Distribution')\n",
    "data['SleepTrouble'].value_counts()"
   ]
  },
  {
   "cell_type": "code",
   "execution_count": 7,
   "metadata": {},
   "outputs": [
    {
     "name": "stdout",
     "output_type": "stream",
     "text": [
      "Dataset after removing missing entries in label column:  7772\n",
      "Dataset without label (Can be used for prediction):  2228\n"
     ]
    }
   ],
   "source": [
    "data_sleeptrouble = data[~data['SleepTrouble'].isna()]\n",
    "missing_sleeptrouble = data[data['SleepTrouble'].isna()]\n",
    "print('Dataset after removing missing entries in label column: ',len(data_sleeptrouble))\n",
    "print('Dataset without label (Can be used for prediction): ',len(missing_sleeptrouble))"
   ]
  },
  {
   "cell_type": "code",
   "execution_count": 8,
   "metadata": {},
   "outputs": [
    {
     "data": {
      "text/plain": [
       "Age                   0\n",
       "AgeMonths          3999\n",
       "HHIncomeMid         672\n",
       "Poverty             597\n",
       "HomeRooms            64\n",
       "Weight               66\n",
       "Length             7772\n",
       "HeadCirc           7772\n",
       "Height               60\n",
       "BMI                  72\n",
       "Pulse               282\n",
       "BPSysAve            293\n",
       "BPDiaAve            293\n",
       "BPSys1              570\n",
       "BPDia1              570\n",
       "BPSys2              454\n",
       "BPDia2              454\n",
       "BPSys3              437\n",
       "BPDia3              437\n",
       "Testosterone       4214\n",
       "DirectChol          427\n",
       "TotChol             427\n",
       "UrineVol1           105\n",
       "UrineFlow1          532\n",
       "UrineVol2          6539\n",
       "UrineFlow2         6541\n",
       "DiabetesAge        7155\n",
       "DaysPhysHlthBad     795\n",
       "nPregnancies       5168\n",
       "nBabies            5356\n",
       "Age1stBaby         5888\n",
       "PhysActiveDays     3896\n",
       "TVHrsDay           3931\n",
       "CompHrsDay         3929\n",
       "SleepTrouble          0\n",
       "dtype: int64"
      ]
     },
     "execution_count": 8,
     "metadata": {},
     "output_type": "execute_result"
    }
   ],
   "source": [
    "# Number of Null Values in each column\n",
    "data_sleeptrouble.isna().sum()"
   ]
  },
  {
   "cell_type": "code",
   "execution_count": 9,
   "metadata": {},
   "outputs": [],
   "source": [
    "# Droping columns with more than 50% missing values\n",
    "data_sleeptrouble = data_sleeptrouble.drop(columns=['AgeMonths','Length','HeadCirc','Testosterone',\n",
    "                                                   'UrineVol2','UrineFlow2','DiabetesAge','nPregnancies',\n",
    "                                                    'nBabies', 'Age1stBaby', 'PhysActiveDays', 'TVHrsDay',\n",
    "                                                    'CompHrsDay'])"
   ]
  },
  {
   "cell_type": "code",
   "execution_count": 10,
   "metadata": {},
   "outputs": [
    {
     "data": {
      "text/plain": [
       "Age                  0\n",
       "HHIncomeMid        672\n",
       "Poverty            597\n",
       "HomeRooms           64\n",
       "Weight              66\n",
       "Height              60\n",
       "BMI                 72\n",
       "Pulse              282\n",
       "BPSysAve           293\n",
       "BPDiaAve           293\n",
       "BPSys1             570\n",
       "BPDia1             570\n",
       "BPSys2             454\n",
       "BPDia2             454\n",
       "BPSys3             437\n",
       "BPDia3             437\n",
       "DirectChol         427\n",
       "TotChol            427\n",
       "UrineVol1          105\n",
       "UrineFlow1         532\n",
       "DaysPhysHlthBad    795\n",
       "SleepTrouble         0\n",
       "dtype: int64"
      ]
     },
     "execution_count": 10,
     "metadata": {},
     "output_type": "execute_result"
    }
   ],
   "source": [
    "# Null count on remaining columns\n",
    "data_sleeptrouble.isna().sum()"
   ]
  },
  {
   "cell_type": "code",
   "execution_count": 11,
   "metadata": {},
   "outputs": [
    {
     "data": {
      "text/plain": [
       "Age                0\n",
       "HHIncomeMid        0\n",
       "Poverty            0\n",
       "HomeRooms          0\n",
       "Weight             0\n",
       "Height             0\n",
       "BMI                0\n",
       "Pulse              0\n",
       "BPSysAve           0\n",
       "BPDiaAve           0\n",
       "BPSys1             0\n",
       "BPDia1             0\n",
       "BPSys2             0\n",
       "BPDia2             0\n",
       "BPSys3             0\n",
       "BPDia3             0\n",
       "DirectChol         0\n",
       "TotChol            0\n",
       "UrineVol1          0\n",
       "UrineFlow1         0\n",
       "DaysPhysHlthBad    0\n",
       "SleepTrouble       0\n",
       "dtype: int64"
      ]
     },
     "execution_count": 11,
     "metadata": {},
     "output_type": "execute_result"
    }
   ],
   "source": [
    "# Filling the missing values with mean value of respective columns\n",
    "\n",
    "data_sleeptrouble_variables =  data_sleeptrouble.drop(columns='SleepTrouble')\n",
    "data_sleeptrouble_variables = data_sleeptrouble_variables.apply(lambda x: x.fillna(x.mean()),axis=0)\n",
    "data_sleeptrouble_variables['SleepTrouble'] = pd.Series(data_sleeptrouble['SleepTrouble'])\n",
    "data_sleeptrouble = data_sleeptrouble_variables\n",
    "data_sleeptrouble.isna().sum()"
   ]
  },
  {
   "cell_type": "code",
   "execution_count": 12,
   "metadata": {},
   "outputs": [
    {
     "data": {
      "text/html": [
       "<div>\n",
       "<style scoped>\n",
       "    .dataframe tbody tr th:only-of-type {\n",
       "        vertical-align: middle;\n",
       "    }\n",
       "\n",
       "    .dataframe tbody tr th {\n",
       "        vertical-align: top;\n",
       "    }\n",
       "\n",
       "    .dataframe thead th {\n",
       "        text-align: right;\n",
       "    }\n",
       "</style>\n",
       "<table border=\"1\" class=\"dataframe\">\n",
       "  <thead>\n",
       "    <tr style=\"text-align: right;\">\n",
       "      <th></th>\n",
       "      <th>Age</th>\n",
       "      <th>HHIncomeMid</th>\n",
       "      <th>Poverty</th>\n",
       "      <th>HomeRooms</th>\n",
       "      <th>Weight</th>\n",
       "      <th>Height</th>\n",
       "      <th>BMI</th>\n",
       "      <th>Pulse</th>\n",
       "      <th>BPSysAve</th>\n",
       "      <th>BPDiaAve</th>\n",
       "      <th>...</th>\n",
       "      <th>BPSys2</th>\n",
       "      <th>BPDia2</th>\n",
       "      <th>BPSys3</th>\n",
       "      <th>BPDia3</th>\n",
       "      <th>DirectChol</th>\n",
       "      <th>TotChol</th>\n",
       "      <th>UrineVol1</th>\n",
       "      <th>UrineFlow1</th>\n",
       "      <th>DaysPhysHlthBad</th>\n",
       "      <th>SleepTrouble</th>\n",
       "    </tr>\n",
       "  </thead>\n",
       "  <tbody>\n",
       "    <tr>\n",
       "      <th>0</th>\n",
       "      <td>34</td>\n",
       "      <td>30000.0</td>\n",
       "      <td>1.36</td>\n",
       "      <td>6.0</td>\n",
       "      <td>87.4</td>\n",
       "      <td>164.7</td>\n",
       "      <td>32.22</td>\n",
       "      <td>70.0</td>\n",
       "      <td>113.0</td>\n",
       "      <td>85.0</td>\n",
       "      <td>...</td>\n",
       "      <td>114.0</td>\n",
       "      <td>88.0</td>\n",
       "      <td>112.0</td>\n",
       "      <td>82.0</td>\n",
       "      <td>1.29</td>\n",
       "      <td>3.49</td>\n",
       "      <td>352.0</td>\n",
       "      <td>1.018502</td>\n",
       "      <td>0.0</td>\n",
       "      <td>Yes</td>\n",
       "    </tr>\n",
       "    <tr>\n",
       "      <th>1</th>\n",
       "      <td>34</td>\n",
       "      <td>30000.0</td>\n",
       "      <td>1.36</td>\n",
       "      <td>6.0</td>\n",
       "      <td>87.4</td>\n",
       "      <td>164.7</td>\n",
       "      <td>32.22</td>\n",
       "      <td>70.0</td>\n",
       "      <td>113.0</td>\n",
       "      <td>85.0</td>\n",
       "      <td>...</td>\n",
       "      <td>114.0</td>\n",
       "      <td>88.0</td>\n",
       "      <td>112.0</td>\n",
       "      <td>82.0</td>\n",
       "      <td>1.29</td>\n",
       "      <td>3.49</td>\n",
       "      <td>352.0</td>\n",
       "      <td>1.018502</td>\n",
       "      <td>0.0</td>\n",
       "      <td>Yes</td>\n",
       "    </tr>\n",
       "    <tr>\n",
       "      <th>2</th>\n",
       "      <td>34</td>\n",
       "      <td>30000.0</td>\n",
       "      <td>1.36</td>\n",
       "      <td>6.0</td>\n",
       "      <td>87.4</td>\n",
       "      <td>164.7</td>\n",
       "      <td>32.22</td>\n",
       "      <td>70.0</td>\n",
       "      <td>113.0</td>\n",
       "      <td>85.0</td>\n",
       "      <td>...</td>\n",
       "      <td>114.0</td>\n",
       "      <td>88.0</td>\n",
       "      <td>112.0</td>\n",
       "      <td>82.0</td>\n",
       "      <td>1.29</td>\n",
       "      <td>3.49</td>\n",
       "      <td>352.0</td>\n",
       "      <td>1.018502</td>\n",
       "      <td>0.0</td>\n",
       "      <td>Yes</td>\n",
       "    </tr>\n",
       "    <tr>\n",
       "      <th>4</th>\n",
       "      <td>49</td>\n",
       "      <td>40000.0</td>\n",
       "      <td>1.91</td>\n",
       "      <td>5.0</td>\n",
       "      <td>86.7</td>\n",
       "      <td>168.4</td>\n",
       "      <td>30.57</td>\n",
       "      <td>86.0</td>\n",
       "      <td>112.0</td>\n",
       "      <td>75.0</td>\n",
       "      <td>...</td>\n",
       "      <td>108.0</td>\n",
       "      <td>74.0</td>\n",
       "      <td>116.0</td>\n",
       "      <td>76.0</td>\n",
       "      <td>1.16</td>\n",
       "      <td>6.70</td>\n",
       "      <td>77.0</td>\n",
       "      <td>0.094000</td>\n",
       "      <td>0.0</td>\n",
       "      <td>Yes</td>\n",
       "    </tr>\n",
       "    <tr>\n",
       "      <th>7</th>\n",
       "      <td>45</td>\n",
       "      <td>87500.0</td>\n",
       "      <td>5.00</td>\n",
       "      <td>6.0</td>\n",
       "      <td>75.7</td>\n",
       "      <td>166.7</td>\n",
       "      <td>27.24</td>\n",
       "      <td>62.0</td>\n",
       "      <td>118.0</td>\n",
       "      <td>64.0</td>\n",
       "      <td>...</td>\n",
       "      <td>118.0</td>\n",
       "      <td>68.0</td>\n",
       "      <td>118.0</td>\n",
       "      <td>60.0</td>\n",
       "      <td>2.12</td>\n",
       "      <td>5.82</td>\n",
       "      <td>106.0</td>\n",
       "      <td>1.116000</td>\n",
       "      <td>0.0</td>\n",
       "      <td>No</td>\n",
       "    </tr>\n",
       "  </tbody>\n",
       "</table>\n",
       "<p>5 rows × 22 columns</p>\n",
       "</div>"
      ],
      "text/plain": [
       "   Age  HHIncomeMid  Poverty  HomeRooms  Weight  Height    BMI  Pulse  \\\n",
       "0   34      30000.0     1.36        6.0    87.4   164.7  32.22   70.0   \n",
       "1   34      30000.0     1.36        6.0    87.4   164.7  32.22   70.0   \n",
       "2   34      30000.0     1.36        6.0    87.4   164.7  32.22   70.0   \n",
       "4   49      40000.0     1.91        5.0    86.7   168.4  30.57   86.0   \n",
       "7   45      87500.0     5.00        6.0    75.7   166.7  27.24   62.0   \n",
       "\n",
       "   BPSysAve  BPDiaAve  ...  BPSys2  BPDia2  BPSys3  BPDia3  DirectChol  \\\n",
       "0     113.0      85.0  ...   114.0    88.0   112.0    82.0        1.29   \n",
       "1     113.0      85.0  ...   114.0    88.0   112.0    82.0        1.29   \n",
       "2     113.0      85.0  ...   114.0    88.0   112.0    82.0        1.29   \n",
       "4     112.0      75.0  ...   108.0    74.0   116.0    76.0        1.16   \n",
       "7     118.0      64.0  ...   118.0    68.0   118.0    60.0        2.12   \n",
       "\n",
       "   TotChol  UrineVol1  UrineFlow1  DaysPhysHlthBad  SleepTrouble  \n",
       "0     3.49      352.0    1.018502              0.0           Yes  \n",
       "1     3.49      352.0    1.018502              0.0           Yes  \n",
       "2     3.49      352.0    1.018502              0.0           Yes  \n",
       "4     6.70       77.0    0.094000              0.0           Yes  \n",
       "7     5.82      106.0    1.116000              0.0            No  \n",
       "\n",
       "[5 rows x 22 columns]"
      ]
     },
     "execution_count": 12,
     "metadata": {},
     "output_type": "execute_result"
    }
   ],
   "source": [
    "from sklearn import preprocessing\n",
    "# Clean Dataframe with no missing values \n",
    "data_sleeptrouble.head()"
   ]
  },
  {
   "cell_type": "markdown",
   "metadata": {},
   "source": [
    "### Naive Bayes :"
   ]
  },
  {
   "cell_type": "code",
   "execution_count": 15,
   "metadata": {},
   "outputs": [],
   "source": [
    "# Model Creation, Training and Prediction"
   ]
  },
  {
   "cell_type": "code",
   "execution_count": 16,
   "metadata": {},
   "outputs": [],
   "source": [
    "from sklearn.naive_bayes import GaussianNB"
   ]
  },
  {
   "cell_type": "code",
   "execution_count": 17,
   "metadata": {},
   "outputs": [],
   "source": [
    "# Scaling the dataset using MinMaxScaler\n",
    "\n",
    "from sklearn.model_selection import train_test_split\n",
    "X =  data_sleeptrouble.drop(columns='SleepTrouble')\n",
    "scaler = preprocessing.MinMaxScaler()\n",
    "X = scaler.fit_transform(X)\n",
    "y = data_sleeptrouble['SleepTrouble'].values\n",
    "X_train, X_test, y_train, y_test = train_test_split(X, y, test_size=0.25, random_state=42)"
   ]
  },
  {
   "cell_type": "code",
   "execution_count": 19,
   "metadata": {},
   "outputs": [],
   "source": [
    "# Model declaration\n",
    "gnb = GaussianNB()\n",
    "y_pred = gnb.fit(X_train, y_train).predict(X_test)"
   ]
  },
  {
   "cell_type": "code",
   "execution_count": 21,
   "metadata": {},
   "outputs": [
    {
     "name": "stdout",
     "output_type": "stream",
     "text": [
      "----------------------- Classification Report ------------------------\n",
      "\n",
      "              precision    recall  f1-score   support\n",
      "\n",
      "           0       0.78      0.88      0.83      1472\n",
      "           1       0.35      0.20      0.25       471\n",
      "\n",
      "    accuracy                           0.72      1943\n",
      "   macro avg       0.56      0.54      0.54      1943\n",
      "weighted avg       0.67      0.72      0.69      1943\n",
      "\n",
      "----------------------- Confusion Matrix -----------------------------\n",
      "\n"
     ]
    },
    {
     "data": {
      "text/plain": [
       "<sklearn.metrics._plot.confusion_matrix.ConfusionMatrixDisplay at 0x22fb813ffd0>"
      ]
     },
     "execution_count": 21,
     "metadata": {},
     "output_type": "execute_result"
    },
    {
     "data": {
      "image/png": "[encoded data removed]",
      "text/plain": [
       "<Figure size 432x288 with 2 Axes>"
      ]
     },
     "metadata": {
      "needs_background": "light"
     },
     "output_type": "display_data"
    }
   ],
   "source": [
    "_y_pred=[0 if x == 'No' else 1 for x in y_pred]\n",
    "_y_test=[0 if x == 'No' else 1 for x in y_test]\n",
    "from sklearn import metrics\n",
    "\n",
    "print('----------------------- Classification Report ------------------------\\n')\n",
    "print(metrics.classification_report(_y_test, _y_pred, labels=[0, 1]))\n",
    "\n",
    "print('----------------------- Confusion Matrix -----------------------------\\n')\n",
    "%matplotlib inline\n",
    "import matplotlib.pyplot as plt  \n",
    "from sklearn.metrics import plot_confusion_matrix\n",
    "plot_confusion_matrix(gnb, X_test, y_test)  "
   ]
  },
  {
   "cell_type": "markdown",
   "metadata": {},
   "source": [
    "### Random Forest :"
   ]
  },
  {
   "cell_type": "code",
   "execution_count": 34,
   "metadata": {},
   "outputs": [],
   "source": [
    "# Desired columns inclusing column : SleepHrsNight\n",
    "\n",
    "data = df[['Age','SleepHrsNight','AgeMonths', 'HHIncomeMid', 'Poverty', 'HomeRooms', 'Weight', 'Length', 'HeadCirc', 'Height', 'BMI', 'Pulse', 'BPSysAve', 'BPDiaAve', 'BPSys1', 'BPDia1', 'BPSys2', 'BPDia2', 'BPSys3', 'BPDia3', 'Testosterone', 'DirectChol', 'TotChol', 'UrineVol1', 'UrineFlow1', 'UrineVol2', 'UrineFlow2', 'DiabetesAge', 'DaysPhysHlthBad', 'nPregnancies', 'nBabies', 'Age1stBaby', 'PhysActiveDays','TVHrsDay', 'CompHrsDay','SleepTrouble']]"
   ]
  },
  {
   "cell_type": "code",
   "execution_count": 35,
   "metadata": {},
   "outputs": [
    {
     "name": "stdout",
     "output_type": "stream",
     "text": [
      "Length dataset after removing missing entries in label data:  7772\n",
      "Length dataset with missing entries in label data (can be used for prediction): 2228\n"
     ]
    }
   ],
   "source": [
    "data_sleeptrouble = data[~data['SleepTrouble'].isna()]\n",
    "missing_sleeptrouble = data[data['SleepTrouble'].isna()]\n",
    "\n",
    "print(\"Length dataset after removing missing entries in label data: \",len(data_sleeptrouble))\n",
    "print(\"Length dataset with missing entries in label data (can be used for prediction):\",len(missing_sleeptrouble))"
   ]
  },
  {
   "cell_type": "code",
   "execution_count": 36,
   "metadata": {},
   "outputs": [
    {
     "data": {
      "text/plain": [
       "Age                   0\n",
       "SleepHrsNight        17\n",
       "AgeMonths          3999\n",
       "HHIncomeMid         672\n",
       "Poverty             597\n",
       "HomeRooms            64\n",
       "Weight               66\n",
       "Length             7772\n",
       "HeadCirc           7772\n",
       "Height               60\n",
       "BMI                  72\n",
       "Pulse               282\n",
       "BPSysAve            293\n",
       "BPDiaAve            293\n",
       "BPSys1              570\n",
       "BPDia1              570\n",
       "BPSys2              454\n",
       "BPDia2              454\n",
       "BPSys3              437\n",
       "BPDia3              437\n",
       "Testosterone       4214\n",
       "DirectChol          427\n",
       "TotChol             427\n",
       "UrineVol1           105\n",
       "UrineFlow1          532\n",
       "UrineVol2          6539\n",
       "UrineFlow2         6541\n",
       "DiabetesAge        7155\n",
       "DaysPhysHlthBad     795\n",
       "nPregnancies       5168\n",
       "nBabies            5356\n",
       "Age1stBaby         5888\n",
       "PhysActiveDays     3896\n",
       "TVHrsDay           3931\n",
       "CompHrsDay         3929\n",
       "SleepTrouble          0\n",
       "dtype: int64"
      ]
     },
     "execution_count": 36,
     "metadata": {},
     "output_type": "execute_result"
    }
   ],
   "source": [
    "data_sleeptrouble.isna().sum()"
   ]
  },
  {
   "cell_type": "code",
   "execution_count": 37,
   "metadata": {},
   "outputs": [],
   "source": [
    "# Dropping all the columns with more than 50% missing values \n",
    "\n",
    "data_sleeptrouble = data_sleeptrouble.drop(columns=['AgeMonths','Length','HeadCirc','Testosterone',\n",
    "                                                   'UrineVol2','UrineFlow2','DiabetesAge','nPregnancies',\n",
    "                                                    'nBabies', 'Age1stBaby', 'PhysActiveDays', 'TVHrsDay',\n",
    "                                                    'CompHrsDay'])"
   ]
  },
  {
   "cell_type": "code",
   "execution_count": 38,
   "metadata": {},
   "outputs": [
    {
     "data": {
      "text/plain": [
       "Age                  0\n",
       "SleepHrsNight       17\n",
       "HHIncomeMid        672\n",
       "Poverty            597\n",
       "HomeRooms           64\n",
       "Weight              66\n",
       "Height              60\n",
       "BMI                 72\n",
       "Pulse              282\n",
       "BPSysAve           293\n",
       "BPDiaAve           293\n",
       "BPSys1             570\n",
       "BPDia1             570\n",
       "BPSys2             454\n",
       "BPDia2             454\n",
       "BPSys3             437\n",
       "BPDia3             437\n",
       "DirectChol         427\n",
       "TotChol            427\n",
       "UrineVol1          105\n",
       "UrineFlow1         532\n",
       "DaysPhysHlthBad    795\n",
       "SleepTrouble         0\n",
       "dtype: int64"
      ]
     },
     "execution_count": 38,
     "metadata": {},
     "output_type": "execute_result"
    }
   ],
   "source": [
    "data_sleeptrouble.isna().sum()"
   ]
  },
  {
   "cell_type": "code",
   "execution_count": 39,
   "metadata": {},
   "outputs": [
    {
     "data": {
      "text/plain": [
       "Age                0\n",
       "SleepHrsNight      0\n",
       "HHIncomeMid        0\n",
       "Poverty            0\n",
       "HomeRooms          0\n",
       "Weight             0\n",
       "Height             0\n",
       "BMI                0\n",
       "Pulse              0\n",
       "BPSysAve           0\n",
       "BPDiaAve           0\n",
       "BPSys1             0\n",
       "BPDia1             0\n",
       "BPSys2             0\n",
       "BPDia2             0\n",
       "BPSys3             0\n",
       "BPDia3             0\n",
       "DirectChol         0\n",
       "TotChol            0\n",
       "UrineVol1          0\n",
       "UrineFlow1         0\n",
       "DaysPhysHlthBad    0\n",
       "SleepTrouble       0\n",
       "dtype: int64"
      ]
     },
     "execution_count": 39,
     "metadata": {},
     "output_type": "execute_result"
    }
   ],
   "source": [
    "# Filling the missing values with mean value of respective columns\n",
    "\n",
    "data_sleeptrouble_variables =  data_sleeptrouble.drop(columns='SleepTrouble')\n",
    "data_sleeptrouble_variables = data_sleeptrouble_variables.apply(lambda x: x.fillna(x.mean()),axis=0)\n",
    "data_sleeptrouble_variables['SleepTrouble'] = pd.Series(data_sleeptrouble['SleepTrouble'])\n",
    "data_sleeptrouble = data_sleeptrouble_variables\n",
    "data_sleeptrouble.isna().sum()"
   ]
  },
  {
   "cell_type": "code",
   "execution_count": 40,
   "metadata": {},
   "outputs": [
    {
     "data": {
      "text/html": [
       "<div>\n",
       "<style scoped>\n",
       "    .dataframe tbody tr th:only-of-type {\n",
       "        vertical-align: middle;\n",
       "    }\n",
       "\n",
       "    .dataframe tbody tr th {\n",
       "        vertical-align: top;\n",
       "    }\n",
       "\n",
       "    .dataframe thead th {\n",
       "        text-align: right;\n",
       "    }\n",
       "</style>\n",
       "<table border=\"1\" class=\"dataframe\">\n",
       "  <thead>\n",
       "    <tr style=\"text-align: right;\">\n",
       "      <th></th>\n",
       "      <th>Age</th>\n",
       "      <th>SleepHrsNight</th>\n",
       "      <th>HHIncomeMid</th>\n",
       "      <th>Poverty</th>\n",
       "      <th>HomeRooms</th>\n",
       "      <th>Weight</th>\n",
       "      <th>Height</th>\n",
       "      <th>BMI</th>\n",
       "      <th>Pulse</th>\n",
       "      <th>BPSysAve</th>\n",
       "      <th>...</th>\n",
       "      <th>BPSys2</th>\n",
       "      <th>BPDia2</th>\n",
       "      <th>BPSys3</th>\n",
       "      <th>BPDia3</th>\n",
       "      <th>DirectChol</th>\n",
       "      <th>TotChol</th>\n",
       "      <th>UrineVol1</th>\n",
       "      <th>UrineFlow1</th>\n",
       "      <th>DaysPhysHlthBad</th>\n",
       "      <th>SleepTrouble</th>\n",
       "    </tr>\n",
       "  </thead>\n",
       "  <tbody>\n",
       "    <tr>\n",
       "      <th>0</th>\n",
       "      <td>34</td>\n",
       "      <td>4.0</td>\n",
       "      <td>30000.0</td>\n",
       "      <td>1.36</td>\n",
       "      <td>6.0</td>\n",
       "      <td>87.4</td>\n",
       "      <td>164.7</td>\n",
       "      <td>32.22</td>\n",
       "      <td>70.0</td>\n",
       "      <td>113.0</td>\n",
       "      <td>...</td>\n",
       "      <td>114.0</td>\n",
       "      <td>88.0</td>\n",
       "      <td>112.0</td>\n",
       "      <td>82.0</td>\n",
       "      <td>1.29</td>\n",
       "      <td>3.49</td>\n",
       "      <td>352.0</td>\n",
       "      <td>1.018502</td>\n",
       "      <td>0.0</td>\n",
       "      <td>Yes</td>\n",
       "    </tr>\n",
       "    <tr>\n",
       "      <th>1</th>\n",
       "      <td>34</td>\n",
       "      <td>4.0</td>\n",
       "      <td>30000.0</td>\n",
       "      <td>1.36</td>\n",
       "      <td>6.0</td>\n",
       "      <td>87.4</td>\n",
       "      <td>164.7</td>\n",
       "      <td>32.22</td>\n",
       "      <td>70.0</td>\n",
       "      <td>113.0</td>\n",
       "      <td>...</td>\n",
       "      <td>114.0</td>\n",
       "      <td>88.0</td>\n",
       "      <td>112.0</td>\n",
       "      <td>82.0</td>\n",
       "      <td>1.29</td>\n",
       "      <td>3.49</td>\n",
       "      <td>352.0</td>\n",
       "      <td>1.018502</td>\n",
       "      <td>0.0</td>\n",
       "      <td>Yes</td>\n",
       "    </tr>\n",
       "    <tr>\n",
       "      <th>2</th>\n",
       "      <td>34</td>\n",
       "      <td>4.0</td>\n",
       "      <td>30000.0</td>\n",
       "      <td>1.36</td>\n",
       "      <td>6.0</td>\n",
       "      <td>87.4</td>\n",
       "      <td>164.7</td>\n",
       "      <td>32.22</td>\n",
       "      <td>70.0</td>\n",
       "      <td>113.0</td>\n",
       "      <td>...</td>\n",
       "      <td>114.0</td>\n",
       "      <td>88.0</td>\n",
       "      <td>112.0</td>\n",
       "      <td>82.0</td>\n",
       "      <td>1.29</td>\n",
       "      <td>3.49</td>\n",
       "      <td>352.0</td>\n",
       "      <td>1.018502</td>\n",
       "      <td>0.0</td>\n",
       "      <td>Yes</td>\n",
       "    </tr>\n",
       "    <tr>\n",
       "      <th>4</th>\n",
       "      <td>49</td>\n",
       "      <td>8.0</td>\n",
       "      <td>40000.0</td>\n",
       "      <td>1.91</td>\n",
       "      <td>5.0</td>\n",
       "      <td>86.7</td>\n",
       "      <td>168.4</td>\n",
       "      <td>30.57</td>\n",
       "      <td>86.0</td>\n",
       "      <td>112.0</td>\n",
       "      <td>...</td>\n",
       "      <td>108.0</td>\n",
       "      <td>74.0</td>\n",
       "      <td>116.0</td>\n",
       "      <td>76.0</td>\n",
       "      <td>1.16</td>\n",
       "      <td>6.70</td>\n",
       "      <td>77.0</td>\n",
       "      <td>0.094000</td>\n",
       "      <td>0.0</td>\n",
       "      <td>Yes</td>\n",
       "    </tr>\n",
       "    <tr>\n",
       "      <th>7</th>\n",
       "      <td>45</td>\n",
       "      <td>8.0</td>\n",
       "      <td>87500.0</td>\n",
       "      <td>5.00</td>\n",
       "      <td>6.0</td>\n",
       "      <td>75.7</td>\n",
       "      <td>166.7</td>\n",
       "      <td>27.24</td>\n",
       "      <td>62.0</td>\n",
       "      <td>118.0</td>\n",
       "      <td>...</td>\n",
       "      <td>118.0</td>\n",
       "      <td>68.0</td>\n",
       "      <td>118.0</td>\n",
       "      <td>60.0</td>\n",
       "      <td>2.12</td>\n",
       "      <td>5.82</td>\n",
       "      <td>106.0</td>\n",
       "      <td>1.116000</td>\n",
       "      <td>0.0</td>\n",
       "      <td>No</td>\n",
       "    </tr>\n",
       "  </tbody>\n",
       "</table>\n",
       "<p>5 rows × 23 columns</p>\n",
       "</div>"
      ],
      "text/plain": [
       "   Age  SleepHrsNight  HHIncomeMid  Poverty  HomeRooms  Weight  Height    BMI  \\\n",
       "0   34            4.0      30000.0     1.36        6.0    87.4   164.7  32.22   \n",
       "1   34            4.0      30000.0     1.36        6.0    87.4   164.7  32.22   \n",
       "2   34            4.0      30000.0     1.36        6.0    87.4   164.7  32.22   \n",
       "4   49            8.0      40000.0     1.91        5.0    86.7   168.4  30.57   \n",
       "7   45            8.0      87500.0     5.00        6.0    75.7   166.7  27.24   \n",
       "\n",
       "   Pulse  BPSysAve  ...  BPSys2  BPDia2  BPSys3  BPDia3  DirectChol  TotChol  \\\n",
       "0   70.0     113.0  ...   114.0    88.0   112.0    82.0        1.29     3.49   \n",
       "1   70.0     113.0  ...   114.0    88.0   112.0    82.0        1.29     3.49   \n",
       "2   70.0     113.0  ...   114.0    88.0   112.0    82.0        1.29     3.49   \n",
       "4   86.0     112.0  ...   108.0    74.0   116.0    76.0        1.16     6.70   \n",
       "7   62.0     118.0  ...   118.0    68.0   118.0    60.0        2.12     5.82   \n",
       "\n",
       "   UrineVol1  UrineFlow1  DaysPhysHlthBad  SleepTrouble  \n",
       "0      352.0    1.018502              0.0           Yes  \n",
       "1      352.0    1.018502              0.0           Yes  \n",
       "2      352.0    1.018502              0.0           Yes  \n",
       "4       77.0    0.094000              0.0           Yes  \n",
       "7      106.0    1.116000              0.0            No  \n",
       "\n",
       "[5 rows x 23 columns]"
      ]
     },
     "execution_count": 40,
     "metadata": {},
     "output_type": "execute_result"
    }
   ],
   "source": [
    "from sklearn import preprocessing\n",
    "# Clean Dataframe\n",
    "data_sleeptrouble.head()"
   ]
  },
  {
   "cell_type": "code",
   "execution_count": 41,
   "metadata": {},
   "outputs": [
    {
     "name": "stdout",
     "output_type": "stream",
     "text": [
      "SleepTrouble Distribution\n"
     ]
    },
    {
     "data": {
      "text/plain": [
       "No     5799\n",
       "Yes    1973\n",
       "Name: SleepTrouble, dtype: int64"
      ]
     },
     "execution_count": 41,
     "metadata": {},
     "output_type": "execute_result"
    }
   ],
   "source": [
    "print(\"SleepTrouble Distribution\")\n",
    "data_sleeptrouble['SleepTrouble'].value_counts()"
   ]
  },
  {
   "cell_type": "code",
   "execution_count": 42,
   "metadata": {},
   "outputs": [],
   "source": [
    "from sklearn.model_selection import train_test_split\n",
    "_X =  data_sleeptrouble.drop(columns='SleepTrouble')\n",
    "scaler = preprocessing.MinMaxScaler()\n",
    "X = scaler.fit_transform(_X)\n",
    "# X = _X\n",
    "y = data_sleeptrouble['SleepTrouble'].values\n",
    "y = np.array([0 if x == 'No' else 1 for x in y])"
   ]
  },
  {
   "cell_type": "code",
   "execution_count": 43,
   "metadata": {},
   "outputs": [],
   "source": [
    "X_train, X_test, y_train, y_test = train_test_split(X, y, test_size=0.25, random_state=42)"
   ]
  },
  {
   "cell_type": "code",
   "execution_count": 44,
   "metadata": {},
   "outputs": [],
   "source": [
    "from sklearn.ensemble import RandomForestClassifier\n",
    "RFclf = RandomForestClassifier(n_estimators=100, criterion=\"gini\",bootstrap=True, random_state=42)\n",
    "RFclf = RFclf.fit(X_train, y_train)\n",
    "y_pred = RFclf.predict(X_test) "
   ]
  },
  {
   "cell_type": "code",
   "execution_count": 45,
   "metadata": {},
   "outputs": [
    {
     "name": "stdout",
     "output_type": "stream",
     "text": [
      "----------------------- Classification Report ------------------------\n",
      "\n",
      "              precision    recall  f1-score   support\n",
      "\n",
      "           0       0.89      0.98      0.93      1472\n",
      "           1       0.92      0.62      0.74       471\n",
      "\n",
      "    accuracy                           0.90      1943\n",
      "   macro avg       0.91      0.80      0.84      1943\n",
      "weighted avg       0.90      0.90      0.89      1943\n",
      "\n",
      "-------------------------- Confusion matrix --------------------------\n",
      "\n"
     ]
    },
    {
     "data": {
      "text/plain": [
       "<sklearn.metrics._plot.confusion_matrix.ConfusionMatrixDisplay at 0x22fb811cf98>"
      ]
     },
     "execution_count": 45,
     "metadata": {},
     "output_type": "execute_result"
    },
    {
     "data": {
      "image/png": "[encoded data removed]",
      "text/plain": [
       "<Figure size 432x288 with 2 Axes>"
      ]
     },
     "metadata": {
      "needs_background": "light"
     },
     "output_type": "display_data"
    }
   ],
   "source": [
    "from sklearn import metrics\n",
    "\n",
    "print('----------------------- Classification Report ------------------------\\n')\n",
    "\n",
    "print(metrics.classification_report(y_test, y_pred))\n",
    "\n",
    "print('-------------------------- Confusion matrix --------------------------\\n')\n",
    "%matplotlib inline\n",
    "import matplotlib.pyplot as plt  \n",
    "from sklearn.metrics import plot_confusion_matrix\n",
    "plot_confusion_matrix(RFclf, X_test, y_test)  "
   ]
  },
  {
   "cell_type": "code",
   "execution_count": null,
   "metadata": {},
   "outputs": [],
   "source": []
  },
  {
   "cell_type": "markdown",
   "metadata": {},
   "source": [
    "### SMS spam filtering analysis :"
   ]
  },
  {
   "cell_type": "code",
   "execution_count": 2,
   "metadata": {},
   "outputs": [
    {
     "data": {
      "text/html": [
       "<div>\n",
       "<style scoped>\n",
       "    .dataframe tbody tr th:only-of-type {\n",
       "        vertical-align: middle;\n",
       "    }\n",
       "\n",
       "    .dataframe tbody tr th {\n",
       "        vertical-align: top;\n",
       "    }\n",
       "\n",
       "    .dataframe thead th {\n",
       "        text-align: right;\n",
       "    }\n",
       "</style>\n",
       "<table border=\"1\" class=\"dataframe\">\n",
       "  <thead>\n",
       "    <tr style=\"text-align: right;\">\n",
       "      <th></th>\n",
       "      <th>type</th>\n",
       "      <th>text</th>\n",
       "    </tr>\n",
       "  </thead>\n",
       "  <tbody>\n",
       "    <tr>\n",
       "      <th>0</th>\n",
       "      <td>ham</td>\n",
       "      <td>Go until jurong point, crazy.. Available only ...</td>\n",
       "    </tr>\n",
       "    <tr>\n",
       "      <th>1</th>\n",
       "      <td>ham</td>\n",
       "      <td>Ok lar... Joking wif u oni...</td>\n",
       "    </tr>\n",
       "    <tr>\n",
       "      <th>2</th>\n",
       "      <td>spam</td>\n",
       "      <td>Free entry in 2 a wkly comp to win FA Cup fina...</td>\n",
       "    </tr>\n",
       "    <tr>\n",
       "      <th>3</th>\n",
       "      <td>ham</td>\n",
       "      <td>U dun say so early hor... U c already then say...</td>\n",
       "    </tr>\n",
       "    <tr>\n",
       "      <th>4</th>\n",
       "      <td>ham</td>\n",
       "      <td>Nah I don't think he goes to usf, he lives aro...</td>\n",
       "    </tr>\n",
       "  </tbody>\n",
       "</table>\n",
       "</div>"
      ],
      "text/plain": [
       "   type                                               text\n",
       "0   ham  Go until jurong point, crazy.. Available only ...\n",
       "1   ham                      Ok lar... Joking wif u oni...\n",
       "2  spam  Free entry in 2 a wkly comp to win FA Cup fina...\n",
       "3   ham  U dun say so early hor... U c already then say...\n",
       "4   ham  Nah I don't think he goes to usf, he lives aro..."
      ]
     },
     "execution_count": 2,
     "metadata": {},
     "output_type": "execute_result"
    }
   ],
   "source": [
    "# Data Loading\n",
    "df =  pd.read_csv('sms_spam.csv')\n",
    "df.head()"
   ]
  },
  {
   "cell_type": "code",
   "execution_count": 3,
   "metadata": {},
   "outputs": [
    {
     "name": "stdout",
     "output_type": "stream",
     "text": [
      "<class 'pandas.core.frame.DataFrame'>\n",
      "RangeIndex: 5574 entries, 0 to 5573\n",
      "Data columns (total 2 columns):\n",
      "type    5574 non-null object\n",
      "text    5574 non-null object\n",
      "dtypes: object(2)\n",
      "memory usage: 87.2+ KB\n"
     ]
    }
   ],
   "source": [
    "# Data basic info\n",
    "df.info()"
   ]
  },
  {
   "cell_type": "code",
   "execution_count": 4,
   "metadata": {},
   "outputs": [
    {
     "data": {
      "text/plain": [
       "type    0\n",
       "text    0\n",
       "dtype: int64"
      ]
     },
     "execution_count": 4,
     "metadata": {},
     "output_type": "execute_result"
    }
   ],
   "source": [
    "# Checking for null value count\n",
    "df.isna().sum()"
   ]
  },
  {
   "cell_type": "code",
   "execution_count": 5,
   "metadata": {},
   "outputs": [
    {
     "name": "stdout",
     "output_type": "stream",
     "text": [
      "ham     4827\n",
      "spam     747\n",
      "Name: type, dtype: int64\n"
     ]
    },
    {
     "data": {
      "image/png": "[encoded data removed]",
      "text/plain": [
       "<Figure size 432x288 with 1 Axes>"
      ]
     },
     "metadata": {
      "needs_background": "light"
     },
     "output_type": "display_data"
    }
   ],
   "source": [
    "# Plot to show distrubution of Dataset with Ham and Spam \n",
    "print(df['type'].value_counts())\n",
    "sns.countplot(x='type', data = df)\n",
    "plt.title('Number of Spam & ham from sms dataset ')\n",
    "plt.show()"
   ]
  },
  {
   "cell_type": "code",
   "execution_count": 6,
   "metadata": {},
   "outputs": [],
   "source": [
    "# Divide the data in training and test dataset\n",
    "\n",
    "from sklearn.model_selection import train_test_split\n",
    "X= df.text\n",
    "y= df.type\n",
    "X_train, X_test, y_train, y_test = train_test_split(X,y, test_size=0.25, random_state=42)"
   ]
  },
  {
   "cell_type": "code",
   "execution_count": 7,
   "metadata": {},
   "outputs": [
    {
     "data": {
      "text/plain": [
       "CountVectorizer(stop_words='english')"
      ]
     },
     "execution_count": 7,
     "metadata": {},
     "output_type": "execute_result"
    }
   ],
   "source": [
    "# using CountVectorizer to Text data into Vectors\n",
    "from sklearn.feature_extraction.text import CountVectorizer\n",
    "vect= CountVectorizer(stop_words=\"english\")\n",
    "vect.fit(X_train)\n",
    "#print(vect.vocabulary_)"
   ]
  },
  {
   "cell_type": "code",
   "execution_count": 8,
   "metadata": {},
   "outputs": [],
   "source": [
    "# Transform Data into Vectors\n",
    "\n",
    "X_train_transformed= vect.transform(X_train)\n",
    "X_test_transformed = vect.transform(X_test)"
   ]
  },
  {
   "cell_type": "code",
   "execution_count": 9,
   "metadata": {},
   "outputs": [
    {
     "data": {
      "text/plain": [
       "0.9734576757532282"
      ]
     },
     "execution_count": 9,
     "metadata": {},
     "output_type": "execute_result"
    }
   ],
   "source": [
    "# Model Using naive bayes BernoulliNB algorithm \n",
    "from sklearn.naive_bayes import BernoulliNB\n",
    "bnb=BernoulliNB()\n",
    "bnb.fit(X_train_transformed, y_train)\n",
    "proba= bnb.predict_proba(X_test_transformed)\n",
    "y_pred= bnb.predict(X_test_transformed)\n",
    "\n",
    "from sklearn import metrics\n",
    "metrics.accuracy_score(y_test, y_pred)"
   ]
  },
  {
   "cell_type": "code",
   "execution_count": 12,
   "metadata": {},
   "outputs": [
    {
     "name": "stdout",
     "output_type": "stream",
     "text": [
      "----------------------- Classification Report ------------------------\n",
      "\n",
      "              precision    recall  f1-score   support\n",
      "\n",
      "         ham       0.97      1.00      0.98      1203\n",
      "        spam       0.99      0.81      0.89       191\n",
      "\n",
      "    accuracy                           0.97      1394\n",
      "   macro avg       0.98      0.91      0.94      1394\n",
      "weighted avg       0.97      0.97      0.97      1394\n",
      "\n",
      "-------------------------- Confusion matrix --------------------------\n",
      "\n"
     ]
    },
    {
     "data": {
      "text/plain": [
       "<sklearn.metrics._plot.confusion_matrix.ConfusionMatrixDisplay at 0x2462e5827b8>"
      ]
     },
     "execution_count": 12,
     "metadata": {},
     "output_type": "execute_result"
    },
    {
     "data": {
      "image/png": "[encoded data removed]",
      "text/plain": [
       "<Figure size 432x288 with 2 Axes>"
      ]
     },
     "metadata": {
      "needs_background": "light"
     },
     "output_type": "display_data"
    }
   ],
   "source": [
    "from sklearn import metrics\n",
    "print('----------------------- Classification Report ------------------------\\n')\n",
    "print(metrics.classification_report(y_test, y_pred))\n",
    "\n",
    "print('-------------------------- Confusion matrix --------------------------\\n')\n",
    "%matplotlib inline\n",
    "import matplotlib.pyplot as plt  \n",
    "from sklearn.metrics import plot_confusion_matrix\n",
    "plot_confusion_matrix(bnb, X_test_transformed, y_test)  "
   ]
  },
  {
   "cell_type": "code",
   "execution_count": 13,
   "metadata": {},
   "outputs": [],
   "source": [
    "data = pd.DataFrame({'Text': X_test,'Actual Type':y_test, 'Predicted Type':y_pred})"
   ]
  },
  {
   "cell_type": "code",
   "execution_count": 14,
   "metadata": {},
   "outputs": [],
   "source": [
    "data.to_csv('sms_prediction.csv')"
   ]
  },
  {
   "cell_type": "code",
   "execution_count": 15,
   "metadata": {
    "scrolled": true
   },
   "outputs": [
    {
     "data": {
      "text/html": [
       "<div>\n",
       "<style scoped>\n",
       "    .dataframe tbody tr th:only-of-type {\n",
       "        vertical-align: middle;\n",
       "    }\n",
       "\n",
       "    .dataframe tbody tr th {\n",
       "        vertical-align: top;\n",
       "    }\n",
       "\n",
       "    .dataframe thead th {\n",
       "        text-align: right;\n",
       "    }\n",
       "</style>\n",
       "<table border=\"1\" class=\"dataframe\">\n",
       "  <thead>\n",
       "    <tr style=\"text-align: right;\">\n",
       "      <th></th>\n",
       "      <th>Text</th>\n",
       "      <th>Actual Type</th>\n",
       "      <th>Predicted Type</th>\n",
       "    </tr>\n",
       "  </thead>\n",
       "  <tbody>\n",
       "    <tr>\n",
       "      <th>3690</th>\n",
       "      <td>You still coming tonight?</td>\n",
       "      <td>ham</td>\n",
       "      <td>ham</td>\n",
       "    </tr>\n",
       "    <tr>\n",
       "      <th>3527</th>\n",
       "      <td>\"HEY BABE! FAR 2 SPUN-OUT 2 SPK AT DA MO... DE...</td>\n",
       "      <td>ham</td>\n",
       "      <td>ham</td>\n",
       "    </tr>\n",
       "    <tr>\n",
       "      <th>724</th>\n",
       "      <td>Ya even those cookies have jelly on them</td>\n",
       "      <td>ham</td>\n",
       "      <td>ham</td>\n",
       "    </tr>\n",
       "    <tr>\n",
       "      <th>3370</th>\n",
       "      <td>Sorry i've not gone to that place. I.ll do so ...</td>\n",
       "      <td>ham</td>\n",
       "      <td>ham</td>\n",
       "    </tr>\n",
       "    <tr>\n",
       "      <th>468</th>\n",
       "      <td>When are you going to ride your bike?</td>\n",
       "      <td>ham</td>\n",
       "      <td>ham</td>\n",
       "    </tr>\n",
       "    <tr>\n",
       "      <th>5412</th>\n",
       "      <td>Daddy, shu shu is looking 4 u... U wan me 2 te...</td>\n",
       "      <td>ham</td>\n",
       "      <td>ham</td>\n",
       "    </tr>\n",
       "    <tr>\n",
       "      <th>4362</th>\n",
       "      <td>Don't Think About \"What u Have Got\" Think Abou...</td>\n",
       "      <td>ham</td>\n",
       "      <td>ham</td>\n",
       "    </tr>\n",
       "    <tr>\n",
       "      <th>4241</th>\n",
       "      <td>The LAY MAN! Just to let you know you are miss...</td>\n",
       "      <td>ham</td>\n",
       "      <td>ham</td>\n",
       "    </tr>\n",
       "    <tr>\n",
       "      <th>5442</th>\n",
       "      <td>Thank you. do you generally date the brothas?</td>\n",
       "      <td>ham</td>\n",
       "      <td>ham</td>\n",
       "    </tr>\n",
       "    <tr>\n",
       "      <th>5309</th>\n",
       "      <td>What you did in  leave.</td>\n",
       "      <td>ham</td>\n",
       "      <td>ham</td>\n",
       "    </tr>\n",
       "    <tr>\n",
       "      <th>2232</th>\n",
       "      <td>K, wen ur free come to my home and also tel vi...</td>\n",
       "      <td>ham</td>\n",
       "      <td>ham</td>\n",
       "    </tr>\n",
       "    <tr>\n",
       "      <th>3573</th>\n",
       "      <td>Yup, leaving right now, be back soon</td>\n",
       "      <td>ham</td>\n",
       "      <td>ham</td>\n",
       "    </tr>\n",
       "    <tr>\n",
       "      <th>4379</th>\n",
       "      <td>Doing nothing, then u not having dinner w us?</td>\n",
       "      <td>ham</td>\n",
       "      <td>ham</td>\n",
       "    </tr>\n",
       "    <tr>\n",
       "      <th>3316</th>\n",
       "      <td>FREE MESSAGE Activate your 500 FREE Text Messa...</td>\n",
       "      <td>spam</td>\n",
       "      <td>spam</td>\n",
       "    </tr>\n",
       "    <tr>\n",
       "      <th>4895</th>\n",
       "      <td>Convey my regards to him</td>\n",
       "      <td>ham</td>\n",
       "      <td>ham</td>\n",
       "    </tr>\n",
       "    <tr>\n",
       "      <th>296</th>\n",
       "      <td>T-Mobile customer you may now claim your FREE ...</td>\n",
       "      <td>spam</td>\n",
       "      <td>spam</td>\n",
       "    </tr>\n",
       "    <tr>\n",
       "      <th>453</th>\n",
       "      <td>K:)k:)what are detail you want to transfer?acc...</td>\n",
       "      <td>ham</td>\n",
       "      <td>ham</td>\n",
       "    </tr>\n",
       "    <tr>\n",
       "      <th>4880</th>\n",
       "      <td>Yeah just open chat and click friend lists. Th...</td>\n",
       "      <td>ham</td>\n",
       "      <td>ham</td>\n",
       "    </tr>\n",
       "    <tr>\n",
       "      <th>2034</th>\n",
       "      <td>IM GONNA MISS U SO MUCH</td>\n",
       "      <td>ham</td>\n",
       "      <td>ham</td>\n",
       "    </tr>\n",
       "    <tr>\n",
       "      <th>4287</th>\n",
       "      <td>Congrats. That's great. I wanted to tell you n...</td>\n",
       "      <td>ham</td>\n",
       "      <td>ham</td>\n",
       "    </tr>\n",
       "    <tr>\n",
       "      <th>605</th>\n",
       "      <td>Meet after lunch la...</td>\n",
       "      <td>ham</td>\n",
       "      <td>ham</td>\n",
       "    </tr>\n",
       "    <tr>\n",
       "      <th>1615</th>\n",
       "      <td>Me sef dey laugh you. Meanwhile how's my darli...</td>\n",
       "      <td>ham</td>\n",
       "      <td>ham</td>\n",
       "    </tr>\n",
       "    <tr>\n",
       "      <th>5169</th>\n",
       "      <td>Oh did you charge camera</td>\n",
       "      <td>ham</td>\n",
       "      <td>ham</td>\n",
       "    </tr>\n",
       "    <tr>\n",
       "      <th>4655</th>\n",
       "      <td>Hope you are having a great day.</td>\n",
       "      <td>ham</td>\n",
       "      <td>ham</td>\n",
       "    </tr>\n",
       "    <tr>\n",
       "      <th>2754</th>\n",
       "      <td>Derp. Which is worse, a dude who always wants ...</td>\n",
       "      <td>ham</td>\n",
       "      <td>ham</td>\n",
       "    </tr>\n",
       "    <tr>\n",
       "      <th>2727</th>\n",
       "      <td>No i am not having not any movies in my laptop</td>\n",
       "      <td>ham</td>\n",
       "      <td>ham</td>\n",
       "    </tr>\n",
       "    <tr>\n",
       "      <th>4295</th>\n",
       "      <td>Kit Strip - you have been billed 150p. Netcoll...</td>\n",
       "      <td>spam</td>\n",
       "      <td>ham</td>\n",
       "    </tr>\n",
       "    <tr>\n",
       "      <th>3893</th>\n",
       "      <td>URGENT This is our 2nd attempt to contact U. Y...</td>\n",
       "      <td>spam</td>\n",
       "      <td>spam</td>\n",
       "    </tr>\n",
       "    <tr>\n",
       "      <th>2559</th>\n",
       "      <td>Some friends want me to drive em someplace, pr...</td>\n",
       "      <td>ham</td>\n",
       "      <td>ham</td>\n",
       "    </tr>\n",
       "    <tr>\n",
       "      <th>730</th>\n",
       "      <td>Dunno y u ask me.</td>\n",
       "      <td>ham</td>\n",
       "      <td>ham</td>\n",
       "    </tr>\n",
       "    <tr>\n",
       "      <th>...</th>\n",
       "      <td>...</td>\n",
       "      <td>...</td>\n",
       "      <td>...</td>\n",
       "    </tr>\n",
       "    <tr>\n",
       "      <th>3768</th>\n",
       "      <td>Sir Goodmorning, Once free call me.</td>\n",
       "      <td>ham</td>\n",
       "      <td>ham</td>\n",
       "    </tr>\n",
       "    <tr>\n",
       "      <th>3809</th>\n",
       "      <td>Mm you ask him to come its enough :-)</td>\n",
       "      <td>ham</td>\n",
       "      <td>ham</td>\n",
       "    </tr>\n",
       "    <tr>\n",
       "      <th>3034</th>\n",
       "      <td>Aight, lemme know what's up</td>\n",
       "      <td>ham</td>\n",
       "      <td>ham</td>\n",
       "    </tr>\n",
       "    <tr>\n",
       "      <th>5082</th>\n",
       "      <td>Yeah, give me a call if you've got a minute</td>\n",
       "      <td>ham</td>\n",
       "      <td>ham</td>\n",
       "    </tr>\n",
       "    <tr>\n",
       "      <th>257</th>\n",
       "      <td>Mmm so yummy babe ... Nice jolt to the suzy</td>\n",
       "      <td>ham</td>\n",
       "      <td>ham</td>\n",
       "    </tr>\n",
       "    <tr>\n",
       "      <th>507</th>\n",
       "      <td>Maybe westshore or hyde park village, the plac...</td>\n",
       "      <td>ham</td>\n",
       "      <td>ham</td>\n",
       "    </tr>\n",
       "    <tr>\n",
       "      <th>1438</th>\n",
       "      <td>Wat so late still early mah. Or we juz go 4 di...</td>\n",
       "      <td>ham</td>\n",
       "      <td>ham</td>\n",
       "    </tr>\n",
       "    <tr>\n",
       "      <th>99</th>\n",
       "      <td>I see a cup of coffee animation</td>\n",
       "      <td>ham</td>\n",
       "      <td>ham</td>\n",
       "    </tr>\n",
       "    <tr>\n",
       "      <th>1957</th>\n",
       "      <td>K...k:)why cant you come here and search job:)</td>\n",
       "      <td>ham</td>\n",
       "      <td>ham</td>\n",
       "    </tr>\n",
       "    <tr>\n",
       "      <th>5216</th>\n",
       "      <td>Natalja (25/F) is inviting you to be her frien...</td>\n",
       "      <td>spam</td>\n",
       "      <td>spam</td>\n",
       "    </tr>\n",
       "    <tr>\n",
       "      <th>3412</th>\n",
       "      <td>Only once then after ill obey all yours.</td>\n",
       "      <td>ham</td>\n",
       "      <td>ham</td>\n",
       "    </tr>\n",
       "    <tr>\n",
       "      <th>4058</th>\n",
       "      <td>Noice. Text me when you're here</td>\n",
       "      <td>ham</td>\n",
       "      <td>ham</td>\n",
       "    </tr>\n",
       "    <tr>\n",
       "      <th>3650</th>\n",
       "      <td>Hmm ill have to think about it... ok you're fo...</td>\n",
       "      <td>ham</td>\n",
       "      <td>ham</td>\n",
       "    </tr>\n",
       "    <tr>\n",
       "      <th>2707</th>\n",
       "      <td>S now only i took tablets . Reaction morning o...</td>\n",
       "      <td>ham</td>\n",
       "      <td>ham</td>\n",
       "    </tr>\n",
       "    <tr>\n",
       "      <th>1954</th>\n",
       "      <td>Then just eat a shit and wait for ur monkey fa...</td>\n",
       "      <td>ham</td>\n",
       "      <td>ham</td>\n",
       "    </tr>\n",
       "    <tr>\n",
       "      <th>4028</th>\n",
       "      <td>Yes, princess. Are you going to make me moan?</td>\n",
       "      <td>ham</td>\n",
       "      <td>ham</td>\n",
       "    </tr>\n",
       "    <tr>\n",
       "      <th>2164</th>\n",
       "      <td>hi my darlin im on my way to London and we hav...</td>\n",
       "      <td>ham</td>\n",
       "      <td>ham</td>\n",
       "    </tr>\n",
       "    <tr>\n",
       "      <th>4564</th>\n",
       "      <td>Come around  &amp;lt;DECIMAL&amp;gt; pm vikky..i'm ots...</td>\n",
       "      <td>ham</td>\n",
       "      <td>ham</td>\n",
       "    </tr>\n",
       "    <tr>\n",
       "      <th>366</th>\n",
       "      <td>Well i know Z will take care of me. So no worr...</td>\n",
       "      <td>ham</td>\n",
       "      <td>ham</td>\n",
       "    </tr>\n",
       "    <tr>\n",
       "      <th>2561</th>\n",
       "      <td>Are you still getting the goods.</td>\n",
       "      <td>ham</td>\n",
       "      <td>ham</td>\n",
       "    </tr>\n",
       "    <tr>\n",
       "      <th>3680</th>\n",
       "      <td>Stupid.its not possible</td>\n",
       "      <td>ham</td>\n",
       "      <td>ham</td>\n",
       "    </tr>\n",
       "    <tr>\n",
       "      <th>4320</th>\n",
       "      <td>Are you still playing with gautham?</td>\n",
       "      <td>ham</td>\n",
       "      <td>ham</td>\n",
       "    </tr>\n",
       "    <tr>\n",
       "      <th>3133</th>\n",
       "      <td>I've been barred from all B and Q stores for l...</td>\n",
       "      <td>ham</td>\n",
       "      <td>ham</td>\n",
       "    </tr>\n",
       "    <tr>\n",
       "      <th>949</th>\n",
       "      <td>Chk in ur belovd ms dict</td>\n",
       "      <td>ham</td>\n",
       "      <td>ham</td>\n",
       "    </tr>\n",
       "    <tr>\n",
       "      <th>4842</th>\n",
       "      <td>Hmmm.... Mayb can try e shoppin area one, but ...</td>\n",
       "      <td>ham</td>\n",
       "      <td>ham</td>\n",
       "    </tr>\n",
       "    <tr>\n",
       "      <th>19</th>\n",
       "      <td>England v Macedonia - dont miss the goals/team...</td>\n",
       "      <td>spam</td>\n",
       "      <td>spam</td>\n",
       "    </tr>\n",
       "    <tr>\n",
       "      <th>4758</th>\n",
       "      <td>hey, looks like I was wrong and one of the kap...</td>\n",
       "      <td>ham</td>\n",
       "      <td>ham</td>\n",
       "    </tr>\n",
       "    <tr>\n",
       "      <th>668</th>\n",
       "      <td>This pay is  &amp;lt;DECIMAL&amp;gt;  lakhs:)</td>\n",
       "      <td>ham</td>\n",
       "      <td>ham</td>\n",
       "    </tr>\n",
       "    <tr>\n",
       "      <th>218</th>\n",
       "      <td>Easy ah?sen got selected means its good..</td>\n",
       "      <td>ham</td>\n",
       "      <td>ham</td>\n",
       "    </tr>\n",
       "    <tr>\n",
       "      <th>4660</th>\n",
       "      <td>I cant pick the phone right now. Pls send a me...</td>\n",
       "      <td>ham</td>\n",
       "      <td>ham</td>\n",
       "    </tr>\n",
       "  </tbody>\n",
       "</table>\n",
       "<p>1394 rows × 3 columns</p>\n",
       "</div>"
      ],
      "text/plain": [
       "                                                   Text Actual Type  \\\n",
       "3690                          You still coming tonight?         ham   \n",
       "3527  \"HEY BABE! FAR 2 SPUN-OUT 2 SPK AT DA MO... DE...         ham   \n",
       "724            Ya even those cookies have jelly on them         ham   \n",
       "3370  Sorry i've not gone to that place. I.ll do so ...         ham   \n",
       "468               When are you going to ride your bike?         ham   \n",
       "5412  Daddy, shu shu is looking 4 u... U wan me 2 te...         ham   \n",
       "4362  Don't Think About \"What u Have Got\" Think Abou...         ham   \n",
       "4241  The LAY MAN! Just to let you know you are miss...         ham   \n",
       "5442      Thank you. do you generally date the brothas?         ham   \n",
       "5309                            What you did in  leave.         ham   \n",
       "2232  K, wen ur free come to my home and also tel vi...         ham   \n",
       "3573               Yup, leaving right now, be back soon         ham   \n",
       "4379      Doing nothing, then u not having dinner w us?         ham   \n",
       "3316  FREE MESSAGE Activate your 500 FREE Text Messa...        spam   \n",
       "4895                           Convey my regards to him         ham   \n",
       "296   T-Mobile customer you may now claim your FREE ...        spam   \n",
       "453   K:)k:)what are detail you want to transfer?acc...         ham   \n",
       "4880  Yeah just open chat and click friend lists. Th...         ham   \n",
       "2034                            IM GONNA MISS U SO MUCH         ham   \n",
       "4287  Congrats. That's great. I wanted to tell you n...         ham   \n",
       "605                              Meet after lunch la...         ham   \n",
       "1615  Me sef dey laugh you. Meanwhile how's my darli...         ham   \n",
       "5169                           Oh did you charge camera         ham   \n",
       "4655                   Hope you are having a great day.         ham   \n",
       "2754  Derp. Which is worse, a dude who always wants ...         ham   \n",
       "2727     No i am not having not any movies in my laptop         ham   \n",
       "4295  Kit Strip - you have been billed 150p. Netcoll...        spam   \n",
       "3893  URGENT This is our 2nd attempt to contact U. Y...        spam   \n",
       "2559  Some friends want me to drive em someplace, pr...         ham   \n",
       "730                                   Dunno y u ask me.         ham   \n",
       "...                                                 ...         ...   \n",
       "3768                Sir Goodmorning, Once free call me.         ham   \n",
       "3809              Mm you ask him to come its enough :-)         ham   \n",
       "3034                        Aight, lemme know what's up         ham   \n",
       "5082        Yeah, give me a call if you've got a minute         ham   \n",
       "257         Mmm so yummy babe ... Nice jolt to the suzy         ham   \n",
       "507   Maybe westshore or hyde park village, the plac...         ham   \n",
       "1438  Wat so late still early mah. Or we juz go 4 di...         ham   \n",
       "99                      I see a cup of coffee animation         ham   \n",
       "1957     K...k:)why cant you come here and search job:)         ham   \n",
       "5216  Natalja (25/F) is inviting you to be her frien...        spam   \n",
       "3412           Only once then after ill obey all yours.         ham   \n",
       "4058                    Noice. Text me when you're here         ham   \n",
       "3650  Hmm ill have to think about it... ok you're fo...         ham   \n",
       "2707  S now only i took tablets . Reaction morning o...         ham   \n",
       "1954  Then just eat a shit and wait for ur monkey fa...         ham   \n",
       "4028      Yes, princess. Are you going to make me moan?         ham   \n",
       "2164  hi my darlin im on my way to London and we hav...         ham   \n",
       "4564  Come around  &lt;DECIMAL&gt; pm vikky..i'm ots...         ham   \n",
       "366   Well i know Z will take care of me. So no worr...         ham   \n",
       "2561                   Are you still getting the goods.         ham   \n",
       "3680                            Stupid.its not possible         ham   \n",
       "4320                Are you still playing with gautham?         ham   \n",
       "3133  I've been barred from all B and Q stores for l...         ham   \n",
       "949                            Chk in ur belovd ms dict         ham   \n",
       "4842  Hmmm.... Mayb can try e shoppin area one, but ...         ham   \n",
       "19    England v Macedonia - dont miss the goals/team...        spam   \n",
       "4758  hey, looks like I was wrong and one of the kap...         ham   \n",
       "668               This pay is  &lt;DECIMAL&gt;  lakhs:)         ham   \n",
       "218           Easy ah?sen got selected means its good..         ham   \n",
       "4660  I cant pick the phone right now. Pls send a me...         ham   \n",
       "\n",
       "     Predicted Type  \n",
       "3690            ham  \n",
       "3527            ham  \n",
       "724             ham  \n",
       "3370            ham  \n",
       "468             ham  \n",
       "5412            ham  \n",
       "4362            ham  \n",
       "4241            ham  \n",
       "5442            ham  \n",
       "5309            ham  \n",
       "2232            ham  \n",
       "3573            ham  \n",
       "4379            ham  \n",
       "3316           spam  \n",
       "4895            ham  \n",
       "296            spam  \n",
       "453             ham  \n",
       "4880            ham  \n",
       "2034            ham  \n",
       "4287            ham  \n",
       "605             ham  \n",
       "1615            ham  \n",
       "5169            ham  \n",
       "4655            ham  \n",
       "2754            ham  \n",
       "2727            ham  \n",
       "4295            ham  \n",
       "3893           spam  \n",
       "2559            ham  \n",
       "730             ham  \n",
       "...             ...  \n",
       "3768            ham  \n",
       "3809            ham  \n",
       "3034            ham  \n",
       "5082            ham  \n",
       "257             ham  \n",
       "507             ham  \n",
       "1438            ham  \n",
       "99              ham  \n",
       "1957            ham  \n",
       "5216           spam  \n",
       "3412            ham  \n",
       "4058            ham  \n",
       "3650            ham  \n",
       "2707            ham  \n",
       "1954            ham  \n",
       "4028            ham  \n",
       "2164            ham  \n",
       "4564            ham  \n",
       "366             ham  \n",
       "2561            ham  \n",
       "3680            ham  \n",
       "4320            ham  \n",
       "3133            ham  \n",
       "949             ham  \n",
       "4842            ham  \n",
       "19             spam  \n",
       "4758            ham  \n",
       "668             ham  \n",
       "218             ham  \n",
       "4660            ham  \n",
       "\n",
       "[1394 rows x 3 columns]"
      ]
     },
     "execution_count": 15,
     "metadata": {},
     "output_type": "execute_result"
    }
   ],
   "source": [
    "# Data Prediction \n",
    "data"
   ]
  },
  {
   "cell_type": "code",
   "execution_count": null,
   "metadata": {},
   "outputs": [],
   "source": []
  }
 ],
 "metadata": {
  "kernelspec": {
   "display_name": "Python 3",
   "language": "python",
   "name": "python3"
  },
  "language_info": {
   "codemirror_mode": {
    "name": "ipython",
    "version": 3
   },
   "file_extension": ".py",
   "mimetype": "text/x-python",
   "name": "python",
   "nbconvert_exporter": "python",
   "pygments_lexer": "ipython3",
   "version": "3.6.8"
  }
 },
 "nbformat": 4,
 "nbformat_minor": 2
}
